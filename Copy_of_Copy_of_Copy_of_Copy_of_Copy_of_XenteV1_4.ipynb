{
  "nbformat": 4,
  "nbformat_minor": 0,
  "metadata": {
    "colab": {
      "name": "Copy of Copy of Copy of Copy of Copy of XenteV1_4.ipynb",
      "version": "0.3.2",
      "provenance": [],
      "include_colab_link": true
    },
    "kernelspec": {
      "name": "python3",
      "display_name": "Python 3"
    }
  },
  "cells": [
    {
      "cell_type": "markdown",
      "metadata": {
        "id": "view-in-github",
        "colab_type": "text"
      },
      "source": [
        "<a href=\"https://colab.research.google.com/github/charletsebeth/pythontrain/blob/master/Copy_of_Copy_of_Copy_of_Copy_of_Copy_of_XenteV1_4.ipynb\" target=\"_parent\"><img src=\"https://colab.research.google.com/assets/colab-badge.svg\" alt=\"Open In Colab\"/></a>"
      ]
    },
    {
      "cell_type": "code",
      "metadata": {
        "id": "J_LhMY1aQlrD",
        "colab_type": "code",
        "colab": {}
      },
      "source": [
        "import numpy as np\n",
        "import pandas as pd\n",
        "\n",
        "#Visual libaries\n",
        "import matplotlib.pyplot as plt\n",
        "import seaborn as sns\n",
        "\n",
        "from sklearn.metrics import accuracy_score, classification_report, log_loss\n",
        "from sklearn.feature_extraction.text import TfidfVectorizer, CountVectorizer\n",
        "from sklearn.model_selection import train_test_split, cross_val_score, GridSearchCV\n",
        "from sklearn.naive_bayes import MultinomialNB\n",
        "from sklearn.linear_model import LogisticRegression\n",
        "from sklearn.ensemble import AdaBoostClassifier, RandomForestClassifier\n",
        "from sklearn.neighbors import KNeighborsClassifier\n",
        "from sklearn.preprocessing import PowerTransformer, MinMaxScaler\n",
        "from sklearn import svm"
      ],
      "execution_count": 0,
      "outputs": []
    },
    {
      "cell_type": "markdown",
      "metadata": {
        "id": "FDlDJrCmiTU_",
        "colab_type": "text"
      },
      "source": [
        "**`Export file`**\n",
        "\n",
        "To be used later"
      ]
    },
    {
      "cell_type": "code",
      "metadata": {
        "id": "mIDEmntQiT9z",
        "colab_type": "code",
        "colab": {}
      },
      "source": [
        "#from google.colab import files\n",
        "#exportTest = training\n",
        "#exportTest.to_csv('exportTest.csv') \n",
        "#files.download('exportTest.csv')"
      ],
      "execution_count": 0,
      "outputs": []
    },
    {
      "cell_type": "markdown",
      "metadata": {
        "id": "P2HFA5GVhUT4",
        "colab_type": "text"
      },
      "source": [
        "**How to import files from G-Drive**"
      ]
    },
    {
      "cell_type": "code",
      "metadata": {
        "id": "wv9DGr5HQq6d",
        "colab_type": "code",
        "outputId": "873e4fec-dae7-43df-8b61-5019da3d49f7",
        "colab": {
          "base_uri": "https://localhost:8080/",
          "height": 34
        }
      },
      "source": [
        "# Run this cell to mount your Google Drive.\n",
        "#Credit given to Medium article\n",
        "from google.colab import drive\n",
        "drive.mount('/content/drive')"
      ],
      "execution_count": 0,
      "outputs": [
        {
          "output_type": "stream",
          "text": [
            "Drive already mounted at /content/drive; to attempt to forcibly remount, call drive.mount(\"/content/drive\", force_remount=True).\n"
          ],
          "name": "stdout"
        }
      ]
    },
    {
      "cell_type": "code",
      "metadata": {
        "id": "Cfv5kameRUPy",
        "colab_type": "code",
        "colab": {}
      },
      "source": [
        "sample_submission = pd.read_csv(\"/content/drive/My Drive/Colab Notebooks/zindi/Xente/data/sample_submission.csv\")\n",
        "test = pd.read_csv(\"/content/drive/My Drive/Colab Notebooks/zindi/Xente/data/test.csv\")\n",
        "training = pd.read_csv(\"/content/drive/My Drive/Colab Notebooks/zindi/Xente/data/training.csv\")\n",
        "Xente_Variable_Definitions = pd.read_csv(\"/content/drive/My Drive/Colab Notebooks/zindi/Xente/data/Xente_Variable_Definitions.csv\")"
      ],
      "execution_count": 0,
      "outputs": []
    },
    {
      "cell_type": "code",
      "metadata": {
        "id": "rQJv_cogSTt4",
        "colab_type": "code",
        "outputId": "80a7151d-dbc4-4e28-8f94-93763e5cbb91",
        "colab": {
          "base_uri": "https://localhost:8080/",
          "height": 224
        }
      },
      "source": [
        "training.head()\n",
        "\n"
      ],
      "execution_count": 18,
      "outputs": [
        {
          "output_type": "execute_result",
          "data": {
            "text/html": [
              "<div>\n",
              "<style scoped>\n",
              "    .dataframe tbody tr th:only-of-type {\n",
              "        vertical-align: middle;\n",
              "    }\n",
              "\n",
              "    .dataframe tbody tr th {\n",
              "        vertical-align: top;\n",
              "    }\n",
              "\n",
              "    .dataframe thead th {\n",
              "        text-align: right;\n",
              "    }\n",
              "</style>\n",
              "<table border=\"1\" class=\"dataframe\">\n",
              "  <thead>\n",
              "    <tr style=\"text-align: right;\">\n",
              "      <th></th>\n",
              "      <th>TransactionId</th>\n",
              "      <th>BatchId</th>\n",
              "      <th>AccountId</th>\n",
              "      <th>SubscriptionId</th>\n",
              "      <th>CustomerId</th>\n",
              "      <th>CurrencyCode</th>\n",
              "      <th>CountryCode</th>\n",
              "      <th>ProviderId</th>\n",
              "      <th>ProductId</th>\n",
              "      <th>ProductCategory</th>\n",
              "      <th>ChannelId</th>\n",
              "      <th>Amount</th>\n",
              "      <th>Value</th>\n",
              "      <th>TransactionStartTime</th>\n",
              "      <th>PricingStrategy</th>\n",
              "      <th>FraudResult</th>\n",
              "    </tr>\n",
              "  </thead>\n",
              "  <tbody>\n",
              "    <tr>\n",
              "      <th>0</th>\n",
              "      <td>TransactionId_76871</td>\n",
              "      <td>BatchId_36123</td>\n",
              "      <td>AccountId_3957</td>\n",
              "      <td>SubscriptionId_887</td>\n",
              "      <td>CustomerId_4406</td>\n",
              "      <td>UGX</td>\n",
              "      <td>256</td>\n",
              "      <td>ProviderId_6</td>\n",
              "      <td>ProductId_10</td>\n",
              "      <td>airtime</td>\n",
              "      <td>ChannelId_3</td>\n",
              "      <td>1000.0</td>\n",
              "      <td>1000</td>\n",
              "      <td>2018-11-15T02:18:49Z</td>\n",
              "      <td>2</td>\n",
              "      <td>0</td>\n",
              "    </tr>\n",
              "    <tr>\n",
              "      <th>1</th>\n",
              "      <td>TransactionId_73770</td>\n",
              "      <td>BatchId_15642</td>\n",
              "      <td>AccountId_4841</td>\n",
              "      <td>SubscriptionId_3829</td>\n",
              "      <td>CustomerId_4406</td>\n",
              "      <td>UGX</td>\n",
              "      <td>256</td>\n",
              "      <td>ProviderId_4</td>\n",
              "      <td>ProductId_6</td>\n",
              "      <td>financial_services</td>\n",
              "      <td>ChannelId_2</td>\n",
              "      <td>-20.0</td>\n",
              "      <td>20</td>\n",
              "      <td>2018-11-15T02:19:08Z</td>\n",
              "      <td>2</td>\n",
              "      <td>0</td>\n",
              "    </tr>\n",
              "    <tr>\n",
              "      <th>2</th>\n",
              "      <td>TransactionId_26203</td>\n",
              "      <td>BatchId_53941</td>\n",
              "      <td>AccountId_4229</td>\n",
              "      <td>SubscriptionId_222</td>\n",
              "      <td>CustomerId_4683</td>\n",
              "      <td>UGX</td>\n",
              "      <td>256</td>\n",
              "      <td>ProviderId_6</td>\n",
              "      <td>ProductId_1</td>\n",
              "      <td>airtime</td>\n",
              "      <td>ChannelId_3</td>\n",
              "      <td>500.0</td>\n",
              "      <td>500</td>\n",
              "      <td>2018-11-15T02:44:21Z</td>\n",
              "      <td>2</td>\n",
              "      <td>0</td>\n",
              "    </tr>\n",
              "    <tr>\n",
              "      <th>3</th>\n",
              "      <td>TransactionId_380</td>\n",
              "      <td>BatchId_102363</td>\n",
              "      <td>AccountId_648</td>\n",
              "      <td>SubscriptionId_2185</td>\n",
              "      <td>CustomerId_988</td>\n",
              "      <td>UGX</td>\n",
              "      <td>256</td>\n",
              "      <td>ProviderId_1</td>\n",
              "      <td>ProductId_21</td>\n",
              "      <td>utility_bill</td>\n",
              "      <td>ChannelId_3</td>\n",
              "      <td>20000.0</td>\n",
              "      <td>21800</td>\n",
              "      <td>2018-11-15T03:32:55Z</td>\n",
              "      <td>2</td>\n",
              "      <td>0</td>\n",
              "    </tr>\n",
              "    <tr>\n",
              "      <th>4</th>\n",
              "      <td>TransactionId_28195</td>\n",
              "      <td>BatchId_38780</td>\n",
              "      <td>AccountId_4841</td>\n",
              "      <td>SubscriptionId_3829</td>\n",
              "      <td>CustomerId_988</td>\n",
              "      <td>UGX</td>\n",
              "      <td>256</td>\n",
              "      <td>ProviderId_4</td>\n",
              "      <td>ProductId_6</td>\n",
              "      <td>financial_services</td>\n",
              "      <td>ChannelId_2</td>\n",
              "      <td>-644.0</td>\n",
              "      <td>644</td>\n",
              "      <td>2018-11-15T03:34:21Z</td>\n",
              "      <td>2</td>\n",
              "      <td>0</td>\n",
              "    </tr>\n",
              "  </tbody>\n",
              "</table>\n",
              "</div>"
            ],
            "text/plain": [
              "         TransactionId         BatchId  ... PricingStrategy FraudResult\n",
              "0  TransactionId_76871   BatchId_36123  ...               2           0\n",
              "1  TransactionId_73770   BatchId_15642  ...               2           0\n",
              "2  TransactionId_26203   BatchId_53941  ...               2           0\n",
              "3    TransactionId_380  BatchId_102363  ...               2           0\n",
              "4  TransactionId_28195   BatchId_38780  ...               2           0\n",
              "\n",
              "[5 rows x 16 columns]"
            ]
          },
          "metadata": {
            "tags": []
          },
          "execution_count": 18
        }
      ]
    },
    {
      "cell_type": "code",
      "metadata": {
        "id": "L70FZU-NLvyL",
        "colab_type": "code",
        "colab": {
          "base_uri": "https://localhost:8080/",
          "height": 51
        },
        "outputId": "3191e816-b90e-4ed3-e1a7-0c59476130cb"
      },
      "source": [
        "print(len(test.columns))\n",
        "print(len(training.columns))"
      ],
      "execution_count": 149,
      "outputs": [
        {
          "output_type": "stream",
          "text": [
            "15\n",
            "16\n"
          ],
          "name": "stdout"
        }
      ]
    },
    {
      "cell_type": "markdown",
      "metadata": {
        "id": "17_Kaxa8jC4O",
        "colab_type": "text"
      },
      "source": [
        "**Investigate data fields**\n",
        "\n",
        "View fields and decide what cleaning and feature engineering should be done"
      ]
    },
    {
      "cell_type": "code",
      "metadata": {
        "id": "GED5f-Sti2Zg",
        "colab_type": "code",
        "outputId": "d879c6cc-5e71-4ef8-de40-9ef9040e26e5",
        "colab": {
          "base_uri": "https://localhost:8080/",
          "height": 545
        }
      },
      "source": [
        "Xente_Variable_Definitions"
      ],
      "execution_count": 97,
      "outputs": [
        {
          "output_type": "execute_result",
          "data": {
            "text/html": [
              "<div>\n",
              "<style scoped>\n",
              "    .dataframe tbody tr th:only-of-type {\n",
              "        vertical-align: middle;\n",
              "    }\n",
              "\n",
              "    .dataframe tbody tr th {\n",
              "        vertical-align: top;\n",
              "    }\n",
              "\n",
              "    .dataframe thead th {\n",
              "        text-align: right;\n",
              "    }\n",
              "</style>\n",
              "<table border=\"1\" class=\"dataframe\">\n",
              "  <thead>\n",
              "    <tr style=\"text-align: right;\">\n",
              "      <th></th>\n",
              "      <th>Column Name</th>\n",
              "      <th>Definition</th>\n",
              "    </tr>\n",
              "  </thead>\n",
              "  <tbody>\n",
              "    <tr>\n",
              "      <th>0</th>\n",
              "      <td>TransactionId</td>\n",
              "      <td>Unique �transaction identifier on platform</td>\n",
              "    </tr>\n",
              "    <tr>\n",
              "      <th>1</th>\n",
              "      <td>BatchId</td>\n",
              "      <td>Unique number assigned to a batch of transacti...</td>\n",
              "    </tr>\n",
              "    <tr>\n",
              "      <th>2</th>\n",
              "      <td>AccountId</td>\n",
              "      <td>Unique number identifying the customer on plat...</td>\n",
              "    </tr>\n",
              "    <tr>\n",
              "      <th>3</th>\n",
              "      <td>SubscriptionId</td>\n",
              "      <td>Unique number identifying the customer subscri...</td>\n",
              "    </tr>\n",
              "    <tr>\n",
              "      <th>4</th>\n",
              "      <td>CustomerId</td>\n",
              "      <td>Unique identifier attached to Account</td>\n",
              "    </tr>\n",
              "    <tr>\n",
              "      <th>5</th>\n",
              "      <td>CurrencyCode</td>\n",
              "      <td>Country currency</td>\n",
              "    </tr>\n",
              "    <tr>\n",
              "      <th>6</th>\n",
              "      <td>CountryCode</td>\n",
              "      <td>Numerical geographical code of country</td>\n",
              "    </tr>\n",
              "    <tr>\n",
              "      <th>7</th>\n",
              "      <td>ProviderId</td>\n",
              "      <td>Source provider of Item �bought.</td>\n",
              "    </tr>\n",
              "    <tr>\n",
              "      <th>8</th>\n",
              "      <td>ProductId</td>\n",
              "      <td>Item name being bought.</td>\n",
              "    </tr>\n",
              "    <tr>\n",
              "      <th>9</th>\n",
              "      <td>ProductCategory</td>\n",
              "      <td>ProductIds are organized into these broader pr...</td>\n",
              "    </tr>\n",
              "    <tr>\n",
              "      <th>10</th>\n",
              "      <td>ChannelId</td>\n",
              "      <td>Identifies if customer used web,Android, IOS, ...</td>\n",
              "    </tr>\n",
              "    <tr>\n",
              "      <th>11</th>\n",
              "      <td>Amount</td>\n",
              "      <td>Value of the transaction. Positive for debits ...</td>\n",
              "    </tr>\n",
              "    <tr>\n",
              "      <th>12</th>\n",
              "      <td>Value</td>\n",
              "      <td>Absolute value of the amount</td>\n",
              "    </tr>\n",
              "    <tr>\n",
              "      <th>13</th>\n",
              "      <td>TransactionStartTime</td>\n",
              "      <td>Transaction start time</td>\n",
              "    </tr>\n",
              "    <tr>\n",
              "      <th>14</th>\n",
              "      <td>PricingStrategy</td>\n",
              "      <td>Category of Xente's pricing structure for merc...</td>\n",
              "    </tr>\n",
              "    <tr>\n",
              "      <th>15</th>\n",
              "      <td>FraudResult</td>\n",
              "      <td>Fraud status of transaction 1 -yes or 0-No</td>\n",
              "    </tr>\n",
              "  </tbody>\n",
              "</table>\n",
              "</div>"
            ],
            "text/plain": [
              "             Column Name                                         Definition\n",
              "0          TransactionId         Unique �transaction identifier on platform\n",
              "1                BatchId  Unique number assigned to a batch of transacti...\n",
              "2              AccountId  Unique number identifying the customer on plat...\n",
              "3         SubscriptionId  Unique number identifying the customer subscri...\n",
              "4             CustomerId              Unique identifier attached to Account\n",
              "5           CurrencyCode                                   Country currency\n",
              "6            CountryCode             Numerical geographical code of country\n",
              "7             ProviderId                   Source provider of Item �bought.\n",
              "8              ProductId                            Item name being bought.\n",
              "9        ProductCategory  ProductIds are organized into these broader pr...\n",
              "10             ChannelId  Identifies if customer used web,Android, IOS, ...\n",
              "11                Amount  Value of the transaction. Positive for debits ...\n",
              "12                 Value                       Absolute value of the amount\n",
              "13  TransactionStartTime                             Transaction start time\n",
              "14       PricingStrategy  Category of Xente's pricing structure for merc...\n",
              "15           FraudResult         Fraud status of transaction 1 -yes or 0-No"
            ]
          },
          "metadata": {
            "tags": []
          },
          "execution_count": 97
        }
      ]
    },
    {
      "cell_type": "code",
      "metadata": {
        "id": "z9XV--SfW0cd",
        "colab_type": "code",
        "outputId": "491130fd-c1ac-49d0-b7ff-58d37f2def86",
        "colab": {
          "base_uri": "https://localhost:8080/",
          "height": 374
        }
      },
      "source": [
        "training.info()"
      ],
      "execution_count": 0,
      "outputs": [
        {
          "output_type": "stream",
          "text": [
            "<class 'pandas.core.frame.DataFrame'>\n",
            "RangeIndex: 95662 entries, 0 to 95661\n",
            "Data columns (total 16 columns):\n",
            "TransactionId           95662 non-null object\n",
            "BatchId                 95662 non-null object\n",
            "AccountId               95662 non-null object\n",
            "SubscriptionId          95662 non-null object\n",
            "CustomerId              95662 non-null object\n",
            "CurrencyCode            95662 non-null object\n",
            "CountryCode             95662 non-null int64\n",
            "ProviderId              95662 non-null object\n",
            "ProductId               95662 non-null object\n",
            "ProductCategory         95662 non-null object\n",
            "ChannelId               95662 non-null object\n",
            "Amount                  95662 non-null float64\n",
            "Value                   95662 non-null int64\n",
            "TransactionStartTime    95662 non-null object\n",
            "PricingStrategy         95662 non-null int64\n",
            "FraudResult             95662 non-null int64\n",
            "dtypes: float64(1), int64(4), object(11)\n",
            "memory usage: 11.7+ MB\n"
          ],
          "name": "stdout"
        }
      ]
    },
    {
      "cell_type": "code",
      "metadata": {
        "id": "hB8wtfuYiiZ0",
        "colab_type": "code",
        "outputId": "6314c2cd-8e3e-4a9e-b92e-b50d964f73a0",
        "colab": {
          "base_uri": "https://localhost:8080/",
          "height": 306
        }
      },
      "source": [
        "training.dtypes"
      ],
      "execution_count": 0,
      "outputs": [
        {
          "output_type": "execute_result",
          "data": {
            "text/plain": [
              "TransactionId            object\n",
              "BatchId                  object\n",
              "AccountId                object\n",
              "SubscriptionId           object\n",
              "CustomerId               object\n",
              "CurrencyCode             object\n",
              "CountryCode               int64\n",
              "ProviderId               object\n",
              "ProductId                object\n",
              "ProductCategory          object\n",
              "ChannelId                object\n",
              "Amount                  float64\n",
              "Value                     int64\n",
              "TransactionStartTime     object\n",
              "PricingStrategy           int64\n",
              "FraudResult               int64\n",
              "dtype: object"
            ]
          },
          "metadata": {
            "tags": []
          },
          "execution_count": 7
        }
      ]
    },
    {
      "cell_type": "markdown",
      "metadata": {
        "id": "KTw4fJT_yDyp",
        "colab_type": "text"
      },
      "source": [
        "Inspect column types"
      ]
    },
    {
      "cell_type": "markdown",
      "metadata": {
        "id": "ZZfOEEOZjOZ9",
        "colab_type": "text"
      },
      "source": [
        "**Field cleaning and engineering roadmap**\n",
        "\n",
        "Planning to update below \"Roadmap\" as the \"IF\" statements gets answered in my investigation\n",
        "\n",
        "**Dropping fields**\n",
        "\n",
        "If I decide to drop a field I would do it near the end of the preprocessing."
      ]
    },
    {
      "cell_type": "markdown",
      "metadata": {
        "id": "-TsCCuEYjX9W",
        "colab_type": "text"
      },
      "source": [
        "\n",
        "**0-TransactionId\t:** \n",
        "Remove \"TransactionId_\" and consider dropping field\n",
        "<br>\n",
        "\n",
        "**1-BatchId:**\n",
        "Remove prefix and consider dropping field\n",
        "<br>\n",
        "\n",
        "**2-AccountId:**\n",
        "Remove prefix and consider dropping field\n",
        "<br>\n",
        "\n",
        "**3-SubscriptionId:**\n",
        "Remove prefix and KEEP FIELD, since seems like services that user subscribes too which characterizes person\n",
        "<br>\n",
        "\n",
        "**4-CustomerId:**\n",
        "Remove prefix and CONSIDER dropping field UNLESS repeated fraught offender in dataset\n",
        "<br>\n",
        "\n",
        "**5-CurrencyCode:**\n",
        "Investigate if entries for whole field are the same, IF the same DROP, ELSE make DUMMY\n",
        "\n",
        "Value is the same across the whole column, therefore drop field\n",
        "<br>\n",
        "\n",
        "**6-CountryCode:**\n",
        "Investigate if entries for whole field are the same, IF the same DROP, ELSE make DUMMY\n",
        "\n",
        "Value is the same across the whole column, therefore drop field\n",
        "<br>\n",
        "\n",
        "**7-ProviderId:** \n",
        "Investigate if entries for whole field are the same, IF the same DROP, ELSE make DUMMY\n",
        "<br>\n",
        "\n",
        "**8-ProductId:**\n",
        "Remove prefex\n",
        "Investigate if entries for whole field are the same, IF the same DROP, ELSE make DUMMY\n",
        "<br>\n",
        "\n",
        "**9-ProductCategory:**\n",
        "Make field dummy variable\n",
        "<br>\n",
        "\n",
        "**10-ChannelId:**\n",
        "<br>\n",
        "Make field dummy variable\n",
        "\n",
        "**11-Amount:**\n",
        "Consider treating positive and negative amounts differently\n",
        "<br>\n",
        "\n",
        "**12-Value:**\n",
        "Consider dropping field, since information is already contained in Amount field\n",
        "<br>\n",
        "\n",
        "**13-TransactionStartTime:**\n",
        "Clean field to make it a \"dateTime\" field.\n",
        "extract components of dates into its own fields (e.g. year, day etc), but ignore seconds\n",
        "Google whether date and time fields should be treated as dummy/categorical features (but might end up with too many fields)\n",
        "<br>\n",
        "\n",
        "**14-PricingStrategy:**\n",
        "Investigate if entries for whole field are the same, IF the same DROP, ELSE make DUMMY\n",
        "\n",
        "The field is NOT THE SAME across column, keep and make dummy\n",
        "<br>\n",
        "\n",
        "**15-FraudResult:**\n",
        "It is our target variable\n",
        "<br>\n"
      ]
    },
    {
      "cell_type": "markdown",
      "metadata": {
        "id": "iFNqJbICoeX6",
        "colab_type": "text"
      },
      "source": [
        "# **Remove repeated shared string in columns**\n",
        "\n",
        "Quite a few of the fields have some fields that are shared across all of the fields, which I would like to remove.\n",
        "\n",
        "Therefore need to do two things:\n",
        "\n",
        "1- Check that assumption that field is shared across all fields are indeed true\n",
        "\n",
        "2-Create function te remove these fields and apply it"
      ]
    },
    {
      "cell_type": "markdown",
      "metadata": {
        "id": "A9G-5CKJpUdi",
        "colab_type": "text"
      },
      "source": [
        "## **Check that assumption that field is shared across all fields are indeed true**"
      ]
    },
    {
      "cell_type": "code",
      "metadata": {
        "id": "C6emudjspaqe",
        "colab_type": "code",
        "outputId": "ef2774c2-12f6-475c-9452-8e28c848b094",
        "colab": {
          "base_uri": "https://localhost:8080/",
          "height": 68
        }
      },
      "source": [
        "print(training[training['CurrencyCode'] == 'UGX']['CurrencyCode'].count())\n",
        "print(training['CurrencyCode'].count())\n",
        "\n",
        "#Not as smart as you people, have to first hardcode, before I can make it a function\n",
        "bol = training[training['CurrencyCode'] == 'UGX']['CurrencyCode'].count() == training['CurrencyCode'].count()\n",
        "  \n",
        "print(bol)"
      ],
      "execution_count": 0,
      "outputs": [
        {
          "output_type": "stream",
          "text": [
            "95662\n",
            "95662\n",
            "True\n"
          ],
          "name": "stdout"
        }
      ]
    },
    {
      "cell_type": "code",
      "metadata": {
        "id": "6KZA0T5TqWC2",
        "colab_type": "code",
        "colab": {}
      },
      "source": [
        "#Function not doing what I want, will to check without using the function\n",
        "def uniqueTest(df,field,dtype,val):\n",
        "  if dtype == 'string':\n",
        "    val = str(val)\n",
        "  else:\n",
        "      val = int(val)\n",
        "      \n",
        "  bol = df[df[field] == val].count() == training[field].count()\n",
        "  \n",
        "  return bol\n",
        "\n",
        "#print(uniqueTest(training,'CurrencyCode','string','UGX'))"
      ],
      "execution_count": 0,
      "outputs": []
    },
    {
      "cell_type": "code",
      "metadata": {
        "id": "EAhWlLyOYDDV",
        "colab_type": "code",
        "colab": {}
      },
      "source": [
        "#train_df['testBatchID'] = train_df['BatchId'].apply(lambda x: False if x[0:8] ==\"BatchId_\" else True)\n",
        "\n",
        "def fieldCheck(df,field,word):\n",
        "\n",
        "\n",
        "  cut = len(word)\n",
        "  check = pd.DataFrame()\n",
        "  check['Field'] = df[field].apply(lambda c : c[:cut])\n",
        "  check['Field']\n",
        "\n",
        "  check['bol'] = check['Field'].apply(lambda x: True if x != word else False)\n",
        "  \n",
        "  #return check\n",
        "  return check['bol'].sum()"
      ],
      "execution_count": 0,
      "outputs": []
    },
    {
      "cell_type": "markdown",
      "metadata": {
        "id": "0VsdGPrVrOWf",
        "colab_type": "text"
      },
      "source": [
        "### Text field uniqueness\n",
        "ish, was stupid, cannot use my functiont to test if prefixes are unique. Will come back at end of sprint if still have time, but will make assumption for now prefixes are unique"
      ]
    },
    {
      "cell_type": "markdown",
      "metadata": {
        "id": "SkMFqU1HrrXj",
        "colab_type": "text"
      },
      "source": [
        "**CurrencyCode,  CountryCode, PricingStrategy**\n",
        "\n",
        "Some fields I can simply see in the df.head that they are not unique, such as:\n",
        "\n",
        "productID, ProviderId etc"
      ]
    },
    {
      "cell_type": "code",
      "metadata": {
        "id": "FM9VHo_481o-",
        "colab_type": "code",
        "outputId": "4c6f2941-e2ea-44b3-8b11-c99a39ffff91",
        "colab": {
          "base_uri": "https://localhost:8080/",
          "height": 52
        }
      },
      "source": [
        "print(training[training['CurrencyCode'] == 'UGX']['CurrencyCode'].count())\n",
        "print(training['CurrencyCode'].count())"
      ],
      "execution_count": 0,
      "outputs": [
        {
          "output_type": "stream",
          "text": [
            "95662\n",
            "95662\n"
          ],
          "name": "stdout"
        }
      ]
    },
    {
      "cell_type": "code",
      "metadata": {
        "id": "2cPLBmwVuhV_",
        "colab_type": "code",
        "outputId": "cd5a6f5a-abd0-4b45-fa55-58cd425e06dc",
        "colab": {
          "base_uri": "https://localhost:8080/",
          "height": 51
        }
      },
      "source": [
        "print(training[training['CountryCode'] == 256]['CountryCode'].count())\n",
        "print(training['CountryCode'].count())"
      ],
      "execution_count": 0,
      "outputs": [
        {
          "output_type": "stream",
          "text": [
            "95662\n",
            "95662\n"
          ],
          "name": "stdout"
        }
      ]
    },
    {
      "cell_type": "code",
      "metadata": {
        "id": "EukeQ6OMuz9g",
        "colab_type": "code",
        "outputId": "c10bab4e-d3ee-4c58-c575-9ae2ca50fb21",
        "colab": {
          "base_uri": "https://localhost:8080/",
          "height": 51
        }
      },
      "source": [
        "print(training[training['PricingStrategy'] == 2]['PricingStrategy'].count())\n",
        "print(training['PricingStrategy'].count())"
      ],
      "execution_count": 0,
      "outputs": [
        {
          "output_type": "stream",
          "text": [
            "79848\n",
            "95662\n"
          ],
          "name": "stdout"
        }
      ]
    },
    {
      "cell_type": "markdown",
      "metadata": {
        "id": "AA7Inj6pv6C-",
        "colab_type": "text"
      },
      "source": [
        "Conclusion:\n",
        "\n",
        "Drop:\n",
        "\n",
        "Currency\n",
        "\n",
        "Country\n",
        "\n",
        "Keep: Pricing strategy and make dummy"
      ]
    },
    {
      "cell_type": "markdown",
      "metadata": {
        "id": "UEpcAQfwwTia",
        "colab_type": "text"
      },
      "source": [
        "## Create function te remove these fields and apply it\n",
        "\n",
        "Quite a few of the fields have some fields that are shared across all of the fields, which I would like to remove."
      ]
    },
    {
      "cell_type": "code",
      "metadata": {
        "id": "rpho3A5dhnv9",
        "colab_type": "code",
        "colab": {}
      },
      "source": [
        "def transColClean(df,columnName,word):\n",
        "  df[columnName] = df[columnName].apply(lambda s : s.replace(word,''))\n",
        "  df[columnName] = df[columnName].astype('int64')\n",
        "  \n",
        "\n",
        "  return df"
      ],
      "execution_count": 0,
      "outputs": []
    },
    {
      "cell_type": "markdown",
      "metadata": {
        "id": "84EpBQaj82qN",
        "colab_type": "text"
      },
      "source": [
        "Come back later to make sure that prefix is indeed unique if I have time"
      ]
    },
    {
      "cell_type": "code",
      "metadata": {
        "id": "FcsSGMbTiHsk",
        "colab_type": "code",
        "outputId": "03082d75-6645-40fd-96c2-a63794aea852",
        "colab": {
          "base_uri": "https://localhost:8080/",
          "height": 224
        }
      },
      "source": [
        "transColClean(training,'TransactionId','TransactionId_')\n",
        "transColClean(test,'TransactionId','TransactionId_')\n",
        "\n",
        "transColClean(training,'BatchId','BatchId_')\n",
        "transColClean(test,'BatchId','BatchId_')\n",
        "\n",
        "transColClean(training,'AccountId','AccountId_')\n",
        "transColClean(test,'AccountId','AccountId_')\n",
        "\n",
        "transColClean(training,'SubscriptionId','SubscriptionId_')\n",
        "transColClean(test,'SubscriptionId','SubscriptionId_')\n",
        "\n",
        "transColClean(training,'CustomerId','CustomerId_')\n",
        "transColClean(test,'CustomerId','CustomerId_')\n",
        "\n",
        "transColClean(training,'ProviderId','ProviderId_')\n",
        "transColClean(test,'ProviderId','ProviderId_')\n",
        "\n",
        "transColClean(training,'ProductId','ProductId_')\n",
        "transColClean(test,'ProductId','ProductId_')\n",
        "\n",
        "transColClean(training,'ChannelId','ChannelId_')\n",
        "transColClean(test,'ChannelId','ChannelId_')\n",
        "\n",
        "\n",
        "test.head()\n"
      ],
      "execution_count": 186,
      "outputs": [
        {
          "output_type": "execute_result",
          "data": {
            "text/html": [
              "<div>\n",
              "<style scoped>\n",
              "    .dataframe tbody tr th:only-of-type {\n",
              "        vertical-align: middle;\n",
              "    }\n",
              "\n",
              "    .dataframe tbody tr th {\n",
              "        vertical-align: top;\n",
              "    }\n",
              "\n",
              "    .dataframe thead th {\n",
              "        text-align: right;\n",
              "    }\n",
              "</style>\n",
              "<table border=\"1\" class=\"dataframe\">\n",
              "  <thead>\n",
              "    <tr style=\"text-align: right;\">\n",
              "      <th></th>\n",
              "      <th>TransactionId</th>\n",
              "      <th>BatchId</th>\n",
              "      <th>AccountId</th>\n",
              "      <th>SubscriptionId</th>\n",
              "      <th>CustomerId</th>\n",
              "      <th>CurrencyCode</th>\n",
              "      <th>CountryCode</th>\n",
              "      <th>ProviderId</th>\n",
              "      <th>ProductId</th>\n",
              "      <th>ProductCategory</th>\n",
              "      <th>ChannelId</th>\n",
              "      <th>Amount</th>\n",
              "      <th>Value</th>\n",
              "      <th>TransactionStartTime</th>\n",
              "      <th>PricingStrategy</th>\n",
              "    </tr>\n",
              "  </thead>\n",
              "  <tbody>\n",
              "    <tr>\n",
              "      <th>0</th>\n",
              "      <td>50600</td>\n",
              "      <td>35028</td>\n",
              "      <td>2441</td>\n",
              "      <td>4426</td>\n",
              "      <td>2857</td>\n",
              "      <td>UGX</td>\n",
              "      <td>256</td>\n",
              "      <td>5</td>\n",
              "      <td>3</td>\n",
              "      <td>airtime</td>\n",
              "      <td>3</td>\n",
              "      <td>1000.0</td>\n",
              "      <td>1000</td>\n",
              "      <td>2019-02-13T10:01:40Z</td>\n",
              "      <td>4</td>\n",
              "    </tr>\n",
              "    <tr>\n",
              "      <th>1</th>\n",
              "      <td>95109</td>\n",
              "      <td>45139</td>\n",
              "      <td>3439</td>\n",
              "      <td>2643</td>\n",
              "      <td>3874</td>\n",
              "      <td>UGX</td>\n",
              "      <td>256</td>\n",
              "      <td>5</td>\n",
              "      <td>15</td>\n",
              "      <td>financial_services</td>\n",
              "      <td>3</td>\n",
              "      <td>2000.0</td>\n",
              "      <td>2000</td>\n",
              "      <td>2019-02-13T10:02:12Z</td>\n",
              "      <td>2</td>\n",
              "    </tr>\n",
              "    <tr>\n",
              "      <th>2</th>\n",
              "      <td>47357</td>\n",
              "      <td>74887</td>\n",
              "      <td>4841</td>\n",
              "      <td>3829</td>\n",
              "      <td>2857</td>\n",
              "      <td>UGX</td>\n",
              "      <td>256</td>\n",
              "      <td>4</td>\n",
              "      <td>6</td>\n",
              "      <td>financial_services</td>\n",
              "      <td>2</td>\n",
              "      <td>-50.0</td>\n",
              "      <td>50</td>\n",
              "      <td>2019-02-13T10:02:30Z</td>\n",
              "      <td>2</td>\n",
              "    </tr>\n",
              "    <tr>\n",
              "      <th>3</th>\n",
              "      <td>28185</td>\n",
              "      <td>11025</td>\n",
              "      <td>2685</td>\n",
              "      <td>4626</td>\n",
              "      <td>3105</td>\n",
              "      <td>UGX</td>\n",
              "      <td>256</td>\n",
              "      <td>5</td>\n",
              "      <td>10</td>\n",
              "      <td>airtime</td>\n",
              "      <td>3</td>\n",
              "      <td>3000.0</td>\n",
              "      <td>3000</td>\n",
              "      <td>2019-02-13T10:02:38Z</td>\n",
              "      <td>4</td>\n",
              "    </tr>\n",
              "    <tr>\n",
              "      <th>4</th>\n",
              "      <td>22140</td>\n",
              "      <td>29804</td>\n",
              "      <td>4841</td>\n",
              "      <td>3829</td>\n",
              "      <td>3105</td>\n",
              "      <td>UGX</td>\n",
              "      <td>256</td>\n",
              "      <td>4</td>\n",
              "      <td>6</td>\n",
              "      <td>financial_services</td>\n",
              "      <td>2</td>\n",
              "      <td>-60.0</td>\n",
              "      <td>60</td>\n",
              "      <td>2019-02-13T10:02:58Z</td>\n",
              "      <td>2</td>\n",
              "    </tr>\n",
              "  </tbody>\n",
              "</table>\n",
              "</div>"
            ],
            "text/plain": [
              "   TransactionId  BatchId  ...  TransactionStartTime  PricingStrategy\n",
              "0          50600    35028  ...  2019-02-13T10:01:40Z                4\n",
              "1          95109    45139  ...  2019-02-13T10:02:12Z                2\n",
              "2          47357    74887  ...  2019-02-13T10:02:30Z                2\n",
              "3          28185    11025  ...  2019-02-13T10:02:38Z                4\n",
              "4          22140    29804  ...  2019-02-13T10:02:58Z                2\n",
              "\n",
              "[5 rows x 15 columns]"
            ]
          },
          "metadata": {
            "tags": []
          },
          "execution_count": 186
        }
      ]
    },
    {
      "cell_type": "code",
      "metadata": {
        "id": "BJeR-axoL4Hz",
        "colab_type": "code",
        "colab": {
          "base_uri": "https://localhost:8080/",
          "height": 51
        },
        "outputId": "be8e7d7b-b634-4542-873c-f1d614f1e269"
      },
      "source": [
        "print(len(test.columns))\n",
        "print(len(training.columns))"
      ],
      "execution_count": 166,
      "outputs": [
        {
          "output_type": "stream",
          "text": [
            "15\n",
            "16\n"
          ],
          "name": "stdout"
        }
      ]
    },
    {
      "cell_type": "markdown",
      "metadata": {
        "id": "Sm23vQ-uybej",
        "colab_type": "text"
      },
      "source": [
        "# Time and date fields\n",
        "\n",
        ">Convert \t\"TransactionStartTime\" to pandas dateTime dtype\n",
        "\n",
        ">Break field up into seperate constituents\n",
        "\n",
        "Decide if time should be a dummy variable (think it will result it too many new columns though)"
      ]
    },
    {
      "cell_type": "markdown",
      "metadata": {
        "id": "ggpVTAdHy7a7",
        "colab_type": "text"
      },
      "source": [
        "**Convert \"TransactionStartTime\" to pandas dateTime dtype**\n",
        "\n",
        ">Remove the \"T\" and replace wih space\n",
        "\n",
        ">Remove \"Z\"\n",
        "\n",
        ">Amend field to dateTime"
      ]
    },
    {
      "cell_type": "code",
      "metadata": {
        "id": "l9Mvs2tbyPRg",
        "colab_type": "code",
        "colab": {}
      },
      "source": [
        "def dateTimeTransform(df):\n",
        "  df['TransactionStartTime'] = df['TransactionStartTime'].apply(lambda s : s.replace('T',' '))\n",
        "  df['TransactionStartTime'] = df['TransactionStartTime'].apply(lambda s : s.replace('Z',' '))\n",
        "  df['TransactionStartTime'] =pd.to_datetime(df['TransactionStartTime'])\n",
        "  \n",
        "\n",
        "  return df"
      ],
      "execution_count": 0,
      "outputs": []
    },
    {
      "cell_type": "markdown",
      "metadata": {
        "id": "EWGsJ1SYzXLw",
        "colab_type": "text"
      },
      "source": [
        "**Apply function to training  and test data and check head**"
      ]
    },
    {
      "cell_type": "code",
      "metadata": {
        "id": "_wGPpyBJyy8X",
        "colab_type": "code",
        "outputId": "44691e11-c852-4a20-a8ec-687e0a09189f",
        "colab": {
          "base_uri": "https://localhost:8080/",
          "height": 224
        }
      },
      "source": [
        "dateTimeTransform(training)\n",
        "dateTimeTransform(test)\n",
        "training.head()\n",
        "#training['TransactionStartTime']"
      ],
      "execution_count": 188,
      "outputs": [
        {
          "output_type": "execute_result",
          "data": {
            "text/html": [
              "<div>\n",
              "<style scoped>\n",
              "    .dataframe tbody tr th:only-of-type {\n",
              "        vertical-align: middle;\n",
              "    }\n",
              "\n",
              "    .dataframe tbody tr th {\n",
              "        vertical-align: top;\n",
              "    }\n",
              "\n",
              "    .dataframe thead th {\n",
              "        text-align: right;\n",
              "    }\n",
              "</style>\n",
              "<table border=\"1\" class=\"dataframe\">\n",
              "  <thead>\n",
              "    <tr style=\"text-align: right;\">\n",
              "      <th></th>\n",
              "      <th>TransactionId</th>\n",
              "      <th>BatchId</th>\n",
              "      <th>AccountId</th>\n",
              "      <th>SubscriptionId</th>\n",
              "      <th>CustomerId</th>\n",
              "      <th>CurrencyCode</th>\n",
              "      <th>CountryCode</th>\n",
              "      <th>ProviderId</th>\n",
              "      <th>ProductId</th>\n",
              "      <th>ProductCategory</th>\n",
              "      <th>ChannelId</th>\n",
              "      <th>Amount</th>\n",
              "      <th>Value</th>\n",
              "      <th>TransactionStartTime</th>\n",
              "      <th>PricingStrategy</th>\n",
              "      <th>FraudResult</th>\n",
              "    </tr>\n",
              "  </thead>\n",
              "  <tbody>\n",
              "    <tr>\n",
              "      <th>0</th>\n",
              "      <td>76871</td>\n",
              "      <td>36123</td>\n",
              "      <td>3957</td>\n",
              "      <td>887</td>\n",
              "      <td>4406</td>\n",
              "      <td>UGX</td>\n",
              "      <td>256</td>\n",
              "      <td>6</td>\n",
              "      <td>10</td>\n",
              "      <td>airtime</td>\n",
              "      <td>3</td>\n",
              "      <td>1000.0</td>\n",
              "      <td>1000</td>\n",
              "      <td>2018-11-15 02:18:49</td>\n",
              "      <td>2</td>\n",
              "      <td>0</td>\n",
              "    </tr>\n",
              "    <tr>\n",
              "      <th>1</th>\n",
              "      <td>73770</td>\n",
              "      <td>15642</td>\n",
              "      <td>4841</td>\n",
              "      <td>3829</td>\n",
              "      <td>4406</td>\n",
              "      <td>UGX</td>\n",
              "      <td>256</td>\n",
              "      <td>4</td>\n",
              "      <td>6</td>\n",
              "      <td>financial_services</td>\n",
              "      <td>2</td>\n",
              "      <td>-20.0</td>\n",
              "      <td>20</td>\n",
              "      <td>2018-11-15 02:19:08</td>\n",
              "      <td>2</td>\n",
              "      <td>0</td>\n",
              "    </tr>\n",
              "    <tr>\n",
              "      <th>2</th>\n",
              "      <td>26203</td>\n",
              "      <td>53941</td>\n",
              "      <td>4229</td>\n",
              "      <td>222</td>\n",
              "      <td>4683</td>\n",
              "      <td>UGX</td>\n",
              "      <td>256</td>\n",
              "      <td>6</td>\n",
              "      <td>1</td>\n",
              "      <td>airtime</td>\n",
              "      <td>3</td>\n",
              "      <td>500.0</td>\n",
              "      <td>500</td>\n",
              "      <td>2018-11-15 02:44:21</td>\n",
              "      <td>2</td>\n",
              "      <td>0</td>\n",
              "    </tr>\n",
              "    <tr>\n",
              "      <th>3</th>\n",
              "      <td>380</td>\n",
              "      <td>102363</td>\n",
              "      <td>648</td>\n",
              "      <td>2185</td>\n",
              "      <td>988</td>\n",
              "      <td>UGX</td>\n",
              "      <td>256</td>\n",
              "      <td>1</td>\n",
              "      <td>21</td>\n",
              "      <td>utility_bill</td>\n",
              "      <td>3</td>\n",
              "      <td>20000.0</td>\n",
              "      <td>21800</td>\n",
              "      <td>2018-11-15 03:32:55</td>\n",
              "      <td>2</td>\n",
              "      <td>0</td>\n",
              "    </tr>\n",
              "    <tr>\n",
              "      <th>4</th>\n",
              "      <td>28195</td>\n",
              "      <td>38780</td>\n",
              "      <td>4841</td>\n",
              "      <td>3829</td>\n",
              "      <td>988</td>\n",
              "      <td>UGX</td>\n",
              "      <td>256</td>\n",
              "      <td>4</td>\n",
              "      <td>6</td>\n",
              "      <td>financial_services</td>\n",
              "      <td>2</td>\n",
              "      <td>-644.0</td>\n",
              "      <td>644</td>\n",
              "      <td>2018-11-15 03:34:21</td>\n",
              "      <td>2</td>\n",
              "      <td>0</td>\n",
              "    </tr>\n",
              "  </tbody>\n",
              "</table>\n",
              "</div>"
            ],
            "text/plain": [
              "   TransactionId  BatchId  ...  PricingStrategy  FraudResult\n",
              "0          76871    36123  ...                2            0\n",
              "1          73770    15642  ...                2            0\n",
              "2          26203    53941  ...                2            0\n",
              "3            380   102363  ...                2            0\n",
              "4          28195    38780  ...                2            0\n",
              "\n",
              "[5 rows x 16 columns]"
            ]
          },
          "metadata": {
            "tags": []
          },
          "execution_count": 188
        }
      ]
    },
    {
      "cell_type": "code",
      "metadata": {
        "id": "GpNI4HFuL7yz",
        "colab_type": "code",
        "colab": {
          "base_uri": "https://localhost:8080/",
          "height": 51
        },
        "outputId": "ffb55198-74fc-4d2b-84f4-2014a3715feb"
      },
      "source": [
        "print(len(test.columns))\n",
        "print(len(training.columns))"
      ],
      "execution_count": 87,
      "outputs": [
        {
          "output_type": "stream",
          "text": [
            "15\n",
            "16\n"
          ],
          "name": "stdout"
        }
      ]
    },
    {
      "cell_type": "markdown",
      "metadata": {
        "id": "WBlz5Nf_zwTo",
        "colab_type": "text"
      },
      "source": [
        "## Split date time fields"
      ]
    },
    {
      "cell_type": "code",
      "metadata": {
        "id": "CDVDKHvHz341",
        "colab_type": "code",
        "colab": {}
      },
      "source": [
        "def dtSplit(df):\n",
        "  df['Year'] = df['TransactionStartTime'].dt.year\n",
        "  df['Month'] = df['TransactionStartTime'].dt.month\n",
        "  #df['Date'] = df['TransactionStartTime'].dt.date\n",
        "  df['Day'] = df['TransactionStartTime'].dt.day\n",
        "  df['Hour'] = df['TransactionStartTime'].dt.hour\n",
        "  df['Minute'] = df['TransactionStartTime'].dt.minute\n",
        "  df['Dayofweek'] = df['TransactionStartTime'].dt.dayofweek\n",
        "  \n",
        "  #training.head()\n"
      ],
      "execution_count": 0,
      "outputs": []
    },
    {
      "cell_type": "markdown",
      "metadata": {
        "id": "4ieTYGtt0Kyt",
        "colab_type": "text"
      },
      "source": [
        "**Apply function**"
      ]
    },
    {
      "cell_type": "code",
      "metadata": {
        "id": "t0BgHw0R0NAV",
        "colab_type": "code",
        "colab": {}
      },
      "source": [
        "dtSplit(training)\n",
        "dtSplit(test)"
      ],
      "execution_count": 0,
      "outputs": []
    },
    {
      "cell_type": "code",
      "metadata": {
        "id": "-ftDVQbI5HU1",
        "colab_type": "code",
        "outputId": "8158b267-0711-4fd0-b19e-8ed0e9e931f7",
        "colab": {
          "base_uri": "https://localhost:8080/",
          "height": 131
        }
      },
      "source": [
        "test.head(2)"
      ],
      "execution_count": 105,
      "outputs": [
        {
          "output_type": "execute_result",
          "data": {
            "text/html": [
              "<div>\n",
              "<style scoped>\n",
              "    .dataframe tbody tr th:only-of-type {\n",
              "        vertical-align: middle;\n",
              "    }\n",
              "\n",
              "    .dataframe tbody tr th {\n",
              "        vertical-align: top;\n",
              "    }\n",
              "\n",
              "    .dataframe thead th {\n",
              "        text-align: right;\n",
              "    }\n",
              "</style>\n",
              "<table border=\"1\" class=\"dataframe\">\n",
              "  <thead>\n",
              "    <tr style=\"text-align: right;\">\n",
              "      <th></th>\n",
              "      <th>TransactionId</th>\n",
              "      <th>BatchId</th>\n",
              "      <th>AccountId</th>\n",
              "      <th>SubscriptionId</th>\n",
              "      <th>CustomerId</th>\n",
              "      <th>CurrencyCode</th>\n",
              "      <th>CountryCode</th>\n",
              "      <th>ProviderId</th>\n",
              "      <th>ProductId</th>\n",
              "      <th>ProductCategory</th>\n",
              "      <th>ChannelId</th>\n",
              "      <th>Amount</th>\n",
              "      <th>Value</th>\n",
              "      <th>TransactionStartTime</th>\n",
              "      <th>PricingStrategy</th>\n",
              "      <th>Year</th>\n",
              "      <th>Month</th>\n",
              "      <th>Day</th>\n",
              "      <th>Hour</th>\n",
              "      <th>Minute</th>\n",
              "      <th>Dayofweek</th>\n",
              "    </tr>\n",
              "  </thead>\n",
              "  <tbody>\n",
              "    <tr>\n",
              "      <th>0</th>\n",
              "      <td>50600</td>\n",
              "      <td>35028</td>\n",
              "      <td>2441</td>\n",
              "      <td>4426</td>\n",
              "      <td>2857</td>\n",
              "      <td>UGX</td>\n",
              "      <td>256</td>\n",
              "      <td>5</td>\n",
              "      <td>3</td>\n",
              "      <td>airtime</td>\n",
              "      <td>3</td>\n",
              "      <td>1000.0</td>\n",
              "      <td>1000</td>\n",
              "      <td>2019-02-13 10:01:40</td>\n",
              "      <td>4</td>\n",
              "      <td>2019</td>\n",
              "      <td>2</td>\n",
              "      <td>13</td>\n",
              "      <td>10</td>\n",
              "      <td>1</td>\n",
              "      <td>2</td>\n",
              "    </tr>\n",
              "    <tr>\n",
              "      <th>1</th>\n",
              "      <td>95109</td>\n",
              "      <td>45139</td>\n",
              "      <td>3439</td>\n",
              "      <td>2643</td>\n",
              "      <td>3874</td>\n",
              "      <td>UGX</td>\n",
              "      <td>256</td>\n",
              "      <td>5</td>\n",
              "      <td>15</td>\n",
              "      <td>financial_services</td>\n",
              "      <td>3</td>\n",
              "      <td>2000.0</td>\n",
              "      <td>2000</td>\n",
              "      <td>2019-02-13 10:02:12</td>\n",
              "      <td>2</td>\n",
              "      <td>2019</td>\n",
              "      <td>2</td>\n",
              "      <td>13</td>\n",
              "      <td>10</td>\n",
              "      <td>2</td>\n",
              "      <td>2</td>\n",
              "    </tr>\n",
              "  </tbody>\n",
              "</table>\n",
              "</div>"
            ],
            "text/plain": [
              "   TransactionId  BatchId  AccountId  ...  Hour  Minute Dayofweek\n",
              "0          50600    35028       2441  ...    10       1         2\n",
              "1          95109    45139       3439  ...    10       2         2\n",
              "\n",
              "[2 rows x 21 columns]"
            ]
          },
          "metadata": {
            "tags": []
          },
          "execution_count": 105
        }
      ]
    },
    {
      "cell_type": "code",
      "metadata": {
        "id": "xNy9l8tLMA7D",
        "colab_type": "code",
        "colab": {
          "base_uri": "https://localhost:8080/",
          "height": 51
        },
        "outputId": "41188f5b-12a3-4c62-cdb6-de262dcc01fb"
      },
      "source": [
        "print(len(test.columns))\n",
        "print(len(training.columns))"
      ],
      "execution_count": 190,
      "outputs": [
        {
          "output_type": "stream",
          "text": [
            "21\n",
            "22\n"
          ],
          "name": "stdout"
        }
      ]
    },
    {
      "cell_type": "markdown",
      "metadata": {
        "id": "RE6wM7_5DY8z",
        "colab_type": "text"
      },
      "source": [
        "# Remove columns not interested in\n",
        "\n"
      ]
    },
    {
      "cell_type": "markdown",
      "metadata": {
        "id": "koOM2cSh4dyB",
        "colab_type": "text"
      },
      "source": [
        ">TransactionId: drop\n",
        "\n",
        ">BatchId: Keep and drop\n",
        "<br>\n",
        " Keep since batch is likely a collection of transactions and maybe multiple fraudelent a transactions are executed together. If this is the case it will help classification algorithm, but will have no predictive power outside of sample. (then try again with column being dropped.)\n",
        "\n",
        ">AccountId: keep, once account has been accessed fraud can occur multiple times\n",
        " \n",
        ">SubscriptionId: drop\n",
        "<br>\n",
        "Certain subscriptions might be more prone to fraud, but then I can also simply use ProductCategory or ProductId\n",
        "\n",
        ">CustomerId: Keep\n",
        "<br>\n",
        "Maybe certain customers are easier targets\n",
        "\n",
        ">CurrencyCode: drop, whole field contains same value\n",
        "\n",
        ">CountryCode: drop, whole field contains same value\n",
        "\n",
        ">ProviderId: Keep\n",
        "\n",
        ">ProductCategory: drop \n",
        "<br>\n",
        "Duplicates ProductId info\n",
        "\n",
        ">ChannelId: Keep\n",
        "<br>\n",
        "Might duplicate ProductCategory, but keep for now\n",
        "\n",
        ">Value: Drop\n",
        "<br>\n",
        "Duplicates amount without stating if positive or negative\n",
        "\n",
        ">TransactionStartTime: drop, have splitted this field\n",
        "\n",
        ">PricingStrategy: Values variesin column, will therefore keep\n"
      ]
    },
    {
      "cell_type": "code",
      "metadata": {
        "id": "AMF-nvtQ6mH6",
        "colab_type": "code",
        "colab": {}
      },
      "source": [
        "#training.drop(training['TransactionId'], axis=0, inplace=True)\n",
        "#training.head(1)\n",
        "# pandas drop columns using list of column names\n",
        "#gapminder_ocean.drop(['pop', 'gdpPercap', 'continent'], axis=1)\n",
        "#training.drop(['TransactionId'],axis=1, inplace=True)\n",
        "\n",
        "#training['TransactionId'].head(2)"
      ],
      "execution_count": 0,
      "outputs": []
    },
    {
      "cell_type": "code",
      "metadata": {
        "id": "IuTBVuWdDcPb",
        "colab_type": "code",
        "outputId": "5fecd385-c3d2-4108-9b05-e10d25feaa5c",
        "colab": {
          "base_uri": "https://localhost:8080/",
          "height": 204
        }
      },
      "source": [
        "#training.drop(['TransactionId'],axis=1, inplace=True)\n",
        "#fields = ['TransactionId','SubscriptionId','CustomerId','CurrencyCode','CountryCode','ProductCategory','Value','TransactionStartTime']\n",
        "#test.drop(test[test[fields]], axis=1, inplace=True)\n",
        "\n",
        "training.drop(['TransactionId','SubscriptionId','CustomerId','CurrencyCode','CountryCode','ProductCategory','Value','TransactionStartTime'], axis=1, inplace=True)\n",
        "test.drop(['TransactionId','SubscriptionId','CustomerId','CurrencyCode','CountryCode','ProductCategory','Value','TransactionStartTime'], axis=1, inplace=True)\n",
        "\n",
        "\n",
        "test.head()"
      ],
      "execution_count": 191,
      "outputs": [
        {
          "output_type": "execute_result",
          "data": {
            "text/html": [
              "<div>\n",
              "<style scoped>\n",
              "    .dataframe tbody tr th:only-of-type {\n",
              "        vertical-align: middle;\n",
              "    }\n",
              "\n",
              "    .dataframe tbody tr th {\n",
              "        vertical-align: top;\n",
              "    }\n",
              "\n",
              "    .dataframe thead th {\n",
              "        text-align: right;\n",
              "    }\n",
              "</style>\n",
              "<table border=\"1\" class=\"dataframe\">\n",
              "  <thead>\n",
              "    <tr style=\"text-align: right;\">\n",
              "      <th></th>\n",
              "      <th>BatchId</th>\n",
              "      <th>AccountId</th>\n",
              "      <th>ProviderId</th>\n",
              "      <th>ProductId</th>\n",
              "      <th>ChannelId</th>\n",
              "      <th>Amount</th>\n",
              "      <th>PricingStrategy</th>\n",
              "      <th>Year</th>\n",
              "      <th>Month</th>\n",
              "      <th>Day</th>\n",
              "      <th>Hour</th>\n",
              "      <th>Minute</th>\n",
              "      <th>Dayofweek</th>\n",
              "    </tr>\n",
              "  </thead>\n",
              "  <tbody>\n",
              "    <tr>\n",
              "      <th>0</th>\n",
              "      <td>35028</td>\n",
              "      <td>2441</td>\n",
              "      <td>5</td>\n",
              "      <td>3</td>\n",
              "      <td>3</td>\n",
              "      <td>1000.0</td>\n",
              "      <td>4</td>\n",
              "      <td>2019</td>\n",
              "      <td>2</td>\n",
              "      <td>13</td>\n",
              "      <td>10</td>\n",
              "      <td>1</td>\n",
              "      <td>2</td>\n",
              "    </tr>\n",
              "    <tr>\n",
              "      <th>1</th>\n",
              "      <td>45139</td>\n",
              "      <td>3439</td>\n",
              "      <td>5</td>\n",
              "      <td>15</td>\n",
              "      <td>3</td>\n",
              "      <td>2000.0</td>\n",
              "      <td>2</td>\n",
              "      <td>2019</td>\n",
              "      <td>2</td>\n",
              "      <td>13</td>\n",
              "      <td>10</td>\n",
              "      <td>2</td>\n",
              "      <td>2</td>\n",
              "    </tr>\n",
              "    <tr>\n",
              "      <th>2</th>\n",
              "      <td>74887</td>\n",
              "      <td>4841</td>\n",
              "      <td>4</td>\n",
              "      <td>6</td>\n",
              "      <td>2</td>\n",
              "      <td>-50.0</td>\n",
              "      <td>2</td>\n",
              "      <td>2019</td>\n",
              "      <td>2</td>\n",
              "      <td>13</td>\n",
              "      <td>10</td>\n",
              "      <td>2</td>\n",
              "      <td>2</td>\n",
              "    </tr>\n",
              "    <tr>\n",
              "      <th>3</th>\n",
              "      <td>11025</td>\n",
              "      <td>2685</td>\n",
              "      <td>5</td>\n",
              "      <td>10</td>\n",
              "      <td>3</td>\n",
              "      <td>3000.0</td>\n",
              "      <td>4</td>\n",
              "      <td>2019</td>\n",
              "      <td>2</td>\n",
              "      <td>13</td>\n",
              "      <td>10</td>\n",
              "      <td>2</td>\n",
              "      <td>2</td>\n",
              "    </tr>\n",
              "    <tr>\n",
              "      <th>4</th>\n",
              "      <td>29804</td>\n",
              "      <td>4841</td>\n",
              "      <td>4</td>\n",
              "      <td>6</td>\n",
              "      <td>2</td>\n",
              "      <td>-60.0</td>\n",
              "      <td>2</td>\n",
              "      <td>2019</td>\n",
              "      <td>2</td>\n",
              "      <td>13</td>\n",
              "      <td>10</td>\n",
              "      <td>2</td>\n",
              "      <td>2</td>\n",
              "    </tr>\n",
              "  </tbody>\n",
              "</table>\n",
              "</div>"
            ],
            "text/plain": [
              "   BatchId  AccountId  ProviderId  ProductId  ...  Day  Hour  Minute  Dayofweek\n",
              "0    35028       2441           5          3  ...   13    10       1          2\n",
              "1    45139       3439           5         15  ...   13    10       2          2\n",
              "2    74887       4841           4          6  ...   13    10       2          2\n",
              "3    11025       2685           5         10  ...   13    10       2          2\n",
              "4    29804       4841           4          6  ...   13    10       2          2\n",
              "\n",
              "[5 rows x 13 columns]"
            ]
          },
          "metadata": {
            "tags": []
          },
          "execution_count": 191
        }
      ]
    },
    {
      "cell_type": "code",
      "metadata": {
        "id": "BRMzra9eMF_T",
        "colab_type": "code",
        "colab": {
          "base_uri": "https://localhost:8080/",
          "height": 51
        },
        "outputId": "29b1d884-2970-46f7-a9ad-45ad5f2479ae"
      },
      "source": [
        "print(len(test.columns))\n",
        "print(len(training.columns))"
      ],
      "execution_count": 192,
      "outputs": [
        {
          "output_type": "stream",
          "text": [
            "13\n",
            "14\n"
          ],
          "name": "stdout"
        }
      ]
    },
    {
      "cell_type": "markdown",
      "metadata": {
        "id": "CSpU_y94-6DD",
        "colab_type": "text"
      },
      "source": [
        "# Categorical/Dummy variables\n",
        "\n",
        "**The easy ones**\n",
        "\n",
        "Following fields I feel should be dummy variables:\n",
        "\n",
        "-ProviderId\n",
        "<br>\n",
        "-ProductId\n",
        "<br>\n",
        "-ChannelId\n",
        "<br>\n",
        "-PricingStrategy\n",
        "\n",
        "\n",
        "**The one's I am unsure of**\n",
        "\n",
        "This is one of the sections I am most unsure of.\n",
        "\n",
        "BatchId, AccountId and possibly time are all non numerical data, but to make them all dummy variables might lead to a massive dataframe\n",
        "\n",
        "So I think I will not make them dummy variables and even consider dropping BatchId, AccountId.\n",
        "\n",
        "Regarding date and time, I might play around making some of them dummy variables."
      ]
    },
    {
      "cell_type": "code",
      "metadata": {
        "id": "qkyA5519BhSB",
        "colab_type": "code",
        "colab": {
          "base_uri": "https://localhost:8080/",
          "height": 68
        },
        "outputId": "28d60b36-5cc8-4d10-af2d-caa57054886c"
      },
      "source": [
        "ntrain = training.shape[0]\n",
        "ntest = test.shape[0]\n",
        "\n",
        "Y = training['FraudResult']\n",
        "training = training.drop('FraudResult', axis=1)\n",
        "\n",
        "print(\"test col count: \",len(test.columns))\n",
        "print(\"training col count: \",len(training.columns))\n",
        "\n",
        "all_data = pd.concat((training, test)).reset_index(drop=True)\n",
        "#all_data.drop(['FraudResult'], axis=1, inplace=True)\n",
        "\n",
        "print(\"all_data col count: \",len(all_data.columns))"
      ],
      "execution_count": 193,
      "outputs": [
        {
          "output_type": "stream",
          "text": [
            "test col count:  13\n",
            "training col count:  13\n",
            "all_data col count:  13\n"
          ],
          "name": "stdout"
        }
      ]
    },
    {
      "cell_type": "code",
      "metadata": {
        "id": "g7EFQSz_BU-E",
        "colab_type": "code",
        "colab": {}
      },
      "source": [
        "melist = ['ProviderId', 'ProductId', 'ChannelId','PricingStrategy']\n",
        "#df_dummies = pd.get_dummies(df, columns = ['ProviderId', 'ProductId', 'ChannelId','PricingStrategy'], drop_first = True)\n",
        "\n",
        "all_data = pd.get_dummies(training, columns = melist, drop_first = True)\n",
        "#test = pd.get_dummies(test, columns = melist, drop_first = True)"
      ],
      "execution_count": 0,
      "outputs": []
    },
    {
      "cell_type": "code",
      "metadata": {
        "id": "RtQTDMAKBxR5",
        "colab_type": "code",
        "outputId": "6dc3aea7-9154-44a8-d86f-ea96592c99a6",
        "colab": {
          "base_uri": "https://localhost:8080/",
          "height": 224
        }
      },
      "source": [
        "all_data.head()"
      ],
      "execution_count": 174,
      "outputs": [
        {
          "output_type": "execute_result",
          "data": {
            "text/html": [
              "<div>\n",
              "<style scoped>\n",
              "    .dataframe tbody tr th:only-of-type {\n",
              "        vertical-align: middle;\n",
              "    }\n",
              "\n",
              "    .dataframe tbody tr th {\n",
              "        vertical-align: top;\n",
              "    }\n",
              "\n",
              "    .dataframe thead th {\n",
              "        text-align: right;\n",
              "    }\n",
              "</style>\n",
              "<table border=\"1\" class=\"dataframe\">\n",
              "  <thead>\n",
              "    <tr style=\"text-align: right;\">\n",
              "      <th></th>\n",
              "      <th>BatchId</th>\n",
              "      <th>AccountId</th>\n",
              "      <th>Amount</th>\n",
              "      <th>Year</th>\n",
              "      <th>Month</th>\n",
              "      <th>Day</th>\n",
              "      <th>Hour</th>\n",
              "      <th>Minute</th>\n",
              "      <th>Dayofweek</th>\n",
              "      <th>ProviderId_2</th>\n",
              "      <th>ProviderId_3</th>\n",
              "      <th>ProviderId_4</th>\n",
              "      <th>ProviderId_5</th>\n",
              "      <th>ProviderId_6</th>\n",
              "      <th>ProductId_2</th>\n",
              "      <th>ProductId_3</th>\n",
              "      <th>ProductId_4</th>\n",
              "      <th>ProductId_5</th>\n",
              "      <th>ProductId_6</th>\n",
              "      <th>ProductId_7</th>\n",
              "      <th>ProductId_8</th>\n",
              "      <th>ProductId_9</th>\n",
              "      <th>ProductId_10</th>\n",
              "      <th>ProductId_11</th>\n",
              "      <th>ProductId_12</th>\n",
              "      <th>ProductId_13</th>\n",
              "      <th>ProductId_14</th>\n",
              "      <th>ProductId_15</th>\n",
              "      <th>ProductId_16</th>\n",
              "      <th>ProductId_19</th>\n",
              "      <th>ProductId_20</th>\n",
              "      <th>ProductId_21</th>\n",
              "      <th>ProductId_22</th>\n",
              "      <th>ProductId_23</th>\n",
              "      <th>ProductId_24</th>\n",
              "      <th>ProductId_27</th>\n",
              "      <th>ChannelId_2</th>\n",
              "      <th>ChannelId_3</th>\n",
              "      <th>ChannelId_5</th>\n",
              "      <th>PricingStrategy_1</th>\n",
              "      <th>PricingStrategy_2</th>\n",
              "      <th>PricingStrategy_4</th>\n",
              "    </tr>\n",
              "  </thead>\n",
              "  <tbody>\n",
              "    <tr>\n",
              "      <th>0</th>\n",
              "      <td>36123</td>\n",
              "      <td>3957</td>\n",
              "      <td>1000.0</td>\n",
              "      <td>2018</td>\n",
              "      <td>11</td>\n",
              "      <td>15</td>\n",
              "      <td>2</td>\n",
              "      <td>18</td>\n",
              "      <td>3</td>\n",
              "      <td>0</td>\n",
              "      <td>0</td>\n",
              "      <td>0</td>\n",
              "      <td>0</td>\n",
              "      <td>1</td>\n",
              "      <td>0</td>\n",
              "      <td>0</td>\n",
              "      <td>0</td>\n",
              "      <td>0</td>\n",
              "      <td>0</td>\n",
              "      <td>0</td>\n",
              "      <td>0</td>\n",
              "      <td>0</td>\n",
              "      <td>1</td>\n",
              "      <td>0</td>\n",
              "      <td>0</td>\n",
              "      <td>0</td>\n",
              "      <td>0</td>\n",
              "      <td>0</td>\n",
              "      <td>0</td>\n",
              "      <td>0</td>\n",
              "      <td>0</td>\n",
              "      <td>0</td>\n",
              "      <td>0</td>\n",
              "      <td>0</td>\n",
              "      <td>0</td>\n",
              "      <td>0</td>\n",
              "      <td>0</td>\n",
              "      <td>1</td>\n",
              "      <td>0</td>\n",
              "      <td>0</td>\n",
              "      <td>1</td>\n",
              "      <td>0</td>\n",
              "    </tr>\n",
              "    <tr>\n",
              "      <th>1</th>\n",
              "      <td>15642</td>\n",
              "      <td>4841</td>\n",
              "      <td>-20.0</td>\n",
              "      <td>2018</td>\n",
              "      <td>11</td>\n",
              "      <td>15</td>\n",
              "      <td>2</td>\n",
              "      <td>19</td>\n",
              "      <td>3</td>\n",
              "      <td>0</td>\n",
              "      <td>0</td>\n",
              "      <td>1</td>\n",
              "      <td>0</td>\n",
              "      <td>0</td>\n",
              "      <td>0</td>\n",
              "      <td>0</td>\n",
              "      <td>0</td>\n",
              "      <td>0</td>\n",
              "      <td>1</td>\n",
              "      <td>0</td>\n",
              "      <td>0</td>\n",
              "      <td>0</td>\n",
              "      <td>0</td>\n",
              "      <td>0</td>\n",
              "      <td>0</td>\n",
              "      <td>0</td>\n",
              "      <td>0</td>\n",
              "      <td>0</td>\n",
              "      <td>0</td>\n",
              "      <td>0</td>\n",
              "      <td>0</td>\n",
              "      <td>0</td>\n",
              "      <td>0</td>\n",
              "      <td>0</td>\n",
              "      <td>0</td>\n",
              "      <td>0</td>\n",
              "      <td>1</td>\n",
              "      <td>0</td>\n",
              "      <td>0</td>\n",
              "      <td>0</td>\n",
              "      <td>1</td>\n",
              "      <td>0</td>\n",
              "    </tr>\n",
              "    <tr>\n",
              "      <th>2</th>\n",
              "      <td>53941</td>\n",
              "      <td>4229</td>\n",
              "      <td>500.0</td>\n",
              "      <td>2018</td>\n",
              "      <td>11</td>\n",
              "      <td>15</td>\n",
              "      <td>2</td>\n",
              "      <td>44</td>\n",
              "      <td>3</td>\n",
              "      <td>0</td>\n",
              "      <td>0</td>\n",
              "      <td>0</td>\n",
              "      <td>0</td>\n",
              "      <td>1</td>\n",
              "      <td>0</td>\n",
              "      <td>0</td>\n",
              "      <td>0</td>\n",
              "      <td>0</td>\n",
              "      <td>0</td>\n",
              "      <td>0</td>\n",
              "      <td>0</td>\n",
              "      <td>0</td>\n",
              "      <td>0</td>\n",
              "      <td>0</td>\n",
              "      <td>0</td>\n",
              "      <td>0</td>\n",
              "      <td>0</td>\n",
              "      <td>0</td>\n",
              "      <td>0</td>\n",
              "      <td>0</td>\n",
              "      <td>0</td>\n",
              "      <td>0</td>\n",
              "      <td>0</td>\n",
              "      <td>0</td>\n",
              "      <td>0</td>\n",
              "      <td>0</td>\n",
              "      <td>0</td>\n",
              "      <td>1</td>\n",
              "      <td>0</td>\n",
              "      <td>0</td>\n",
              "      <td>1</td>\n",
              "      <td>0</td>\n",
              "    </tr>\n",
              "    <tr>\n",
              "      <th>3</th>\n",
              "      <td>102363</td>\n",
              "      <td>648</td>\n",
              "      <td>20000.0</td>\n",
              "      <td>2018</td>\n",
              "      <td>11</td>\n",
              "      <td>15</td>\n",
              "      <td>3</td>\n",
              "      <td>32</td>\n",
              "      <td>3</td>\n",
              "      <td>0</td>\n",
              "      <td>0</td>\n",
              "      <td>0</td>\n",
              "      <td>0</td>\n",
              "      <td>0</td>\n",
              "      <td>0</td>\n",
              "      <td>0</td>\n",
              "      <td>0</td>\n",
              "      <td>0</td>\n",
              "      <td>0</td>\n",
              "      <td>0</td>\n",
              "      <td>0</td>\n",
              "      <td>0</td>\n",
              "      <td>0</td>\n",
              "      <td>0</td>\n",
              "      <td>0</td>\n",
              "      <td>0</td>\n",
              "      <td>0</td>\n",
              "      <td>0</td>\n",
              "      <td>0</td>\n",
              "      <td>0</td>\n",
              "      <td>0</td>\n",
              "      <td>1</td>\n",
              "      <td>0</td>\n",
              "      <td>0</td>\n",
              "      <td>0</td>\n",
              "      <td>0</td>\n",
              "      <td>0</td>\n",
              "      <td>1</td>\n",
              "      <td>0</td>\n",
              "      <td>0</td>\n",
              "      <td>1</td>\n",
              "      <td>0</td>\n",
              "    </tr>\n",
              "    <tr>\n",
              "      <th>4</th>\n",
              "      <td>38780</td>\n",
              "      <td>4841</td>\n",
              "      <td>-644.0</td>\n",
              "      <td>2018</td>\n",
              "      <td>11</td>\n",
              "      <td>15</td>\n",
              "      <td>3</td>\n",
              "      <td>34</td>\n",
              "      <td>3</td>\n",
              "      <td>0</td>\n",
              "      <td>0</td>\n",
              "      <td>1</td>\n",
              "      <td>0</td>\n",
              "      <td>0</td>\n",
              "      <td>0</td>\n",
              "      <td>0</td>\n",
              "      <td>0</td>\n",
              "      <td>0</td>\n",
              "      <td>1</td>\n",
              "      <td>0</td>\n",
              "      <td>0</td>\n",
              "      <td>0</td>\n",
              "      <td>0</td>\n",
              "      <td>0</td>\n",
              "      <td>0</td>\n",
              "      <td>0</td>\n",
              "      <td>0</td>\n",
              "      <td>0</td>\n",
              "      <td>0</td>\n",
              "      <td>0</td>\n",
              "      <td>0</td>\n",
              "      <td>0</td>\n",
              "      <td>0</td>\n",
              "      <td>0</td>\n",
              "      <td>0</td>\n",
              "      <td>0</td>\n",
              "      <td>1</td>\n",
              "      <td>0</td>\n",
              "      <td>0</td>\n",
              "      <td>0</td>\n",
              "      <td>1</td>\n",
              "      <td>0</td>\n",
              "    </tr>\n",
              "  </tbody>\n",
              "</table>\n",
              "</div>"
            ],
            "text/plain": [
              "   BatchId  AccountId  ...  PricingStrategy_2  PricingStrategy_4\n",
              "0    36123       3957  ...                  1                  0\n",
              "1    15642       4841  ...                  1                  0\n",
              "2    53941       4229  ...                  1                  0\n",
              "3   102363        648  ...                  1                  0\n",
              "4    38780       4841  ...                  1                  0\n",
              "\n",
              "[5 rows x 42 columns]"
            ]
          },
          "metadata": {
            "tags": []
          },
          "execution_count": 174
        }
      ]
    },
    {
      "cell_type": "code",
      "metadata": {
        "id": "6EUMro2yMMtc",
        "colab_type": "code",
        "colab": {
          "base_uri": "https://localhost:8080/",
          "height": 34
        },
        "outputId": "56012181-f209-4613-c88f-b74184b90bb2"
      },
      "source": [
        "print(len(all_data.columns))\n"
      ],
      "execution_count": 195,
      "outputs": [
        {
          "output_type": "stream",
          "text": [
            "42\n"
          ],
          "name": "stdout"
        }
      ]
    },
    {
      "cell_type": "markdown",
      "metadata": {
        "id": "vThKTmRnCY1Z",
        "colab_type": "text"
      },
      "source": [
        "# My own train / test split\n",
        "\n",
        "I will create a train / test split from the train set to fit models to and test accucracy\n",
        "\n"
      ]
    },
    {
      "cell_type": "code",
      "metadata": {
        "id": "EmoQRZE2QB_m",
        "colab_type": "code",
        "colab": {}
      },
      "source": [
        "training = all_data[:ntrain]\n",
        "test = all_data[ntrain:]"
      ],
      "execution_count": 0,
      "outputs": []
    },
    {
      "cell_type": "code",
      "metadata": {
        "id": "iuC0mx_KEhnS",
        "colab_type": "code",
        "colab": {
          "base_uri": "https://localhost:8080/",
          "height": 51
        },
        "outputId": "f241c262-238d-4046-c678-153a06e3e6f1"
      },
      "source": [
        "X = training\n",
        "#X['FraudResult'].head()\n",
        "\n",
        "print(\"X col count: \",len(X.columns))\n",
        "print(\"Test col count: \",len(test.columns))"
      ],
      "execution_count": 197,
      "outputs": [
        {
          "output_type": "stream",
          "text": [
            "X col count:  42\n",
            "Test col count:  42\n"
          ],
          "name": "stdout"
        }
      ]
    },
    {
      "cell_type": "code",
      "metadata": {
        "id": "V9AlmyvCEf6s",
        "colab_type": "code",
        "colab": {}
      },
      "source": [
        "#train_test_split\n",
        "X_train, X_test, y_train, y_test = train_test_split( X, Y, test_size = 0.2, random_state = 42) "
      ],
      "execution_count": 0,
      "outputs": []
    },
    {
      "cell_type": "code",
      "metadata": {
        "id": "jk-tzLmxF9Zx",
        "colab_type": "code",
        "colab": {
          "base_uri": "https://localhost:8080/",
          "height": 51
        },
        "outputId": "dc1a20a8-d893-4620-fd49-b270f7f175da"
      },
      "source": [
        "print(len(X_train))\n",
        "print(len(y_train))"
      ],
      "execution_count": 199,
      "outputs": [
        {
          "output_type": "stream",
          "text": [
            "76529\n",
            "76529\n"
          ],
          "name": "stdout"
        }
      ]
    },
    {
      "cell_type": "code",
      "metadata": {
        "id": "fupyaVQzRfwI",
        "colab_type": "code",
        "colab": {
          "base_uri": "https://localhost:8080/",
          "height": 224
        },
        "outputId": "b005b457-d45b-4a91-c5d7-5a2ceb4e9fc6"
      },
      "source": [
        "X_train.head()"
      ],
      "execution_count": 200,
      "outputs": [
        {
          "output_type": "execute_result",
          "data": {
            "text/html": [
              "<div>\n",
              "<style scoped>\n",
              "    .dataframe tbody tr th:only-of-type {\n",
              "        vertical-align: middle;\n",
              "    }\n",
              "\n",
              "    .dataframe tbody tr th {\n",
              "        vertical-align: top;\n",
              "    }\n",
              "\n",
              "    .dataframe thead th {\n",
              "        text-align: right;\n",
              "    }\n",
              "</style>\n",
              "<table border=\"1\" class=\"dataframe\">\n",
              "  <thead>\n",
              "    <tr style=\"text-align: right;\">\n",
              "      <th></th>\n",
              "      <th>BatchId</th>\n",
              "      <th>AccountId</th>\n",
              "      <th>Amount</th>\n",
              "      <th>Year</th>\n",
              "      <th>Month</th>\n",
              "      <th>Day</th>\n",
              "      <th>Hour</th>\n",
              "      <th>Minute</th>\n",
              "      <th>Dayofweek</th>\n",
              "      <th>ProviderId_2</th>\n",
              "      <th>ProviderId_3</th>\n",
              "      <th>ProviderId_4</th>\n",
              "      <th>ProviderId_5</th>\n",
              "      <th>ProviderId_6</th>\n",
              "      <th>ProductId_2</th>\n",
              "      <th>ProductId_3</th>\n",
              "      <th>ProductId_4</th>\n",
              "      <th>ProductId_5</th>\n",
              "      <th>ProductId_6</th>\n",
              "      <th>ProductId_7</th>\n",
              "      <th>ProductId_8</th>\n",
              "      <th>ProductId_9</th>\n",
              "      <th>ProductId_10</th>\n",
              "      <th>ProductId_11</th>\n",
              "      <th>ProductId_12</th>\n",
              "      <th>ProductId_13</th>\n",
              "      <th>ProductId_14</th>\n",
              "      <th>ProductId_15</th>\n",
              "      <th>ProductId_16</th>\n",
              "      <th>ProductId_19</th>\n",
              "      <th>ProductId_20</th>\n",
              "      <th>ProductId_21</th>\n",
              "      <th>ProductId_22</th>\n",
              "      <th>ProductId_23</th>\n",
              "      <th>ProductId_24</th>\n",
              "      <th>ProductId_27</th>\n",
              "      <th>ChannelId_2</th>\n",
              "      <th>ChannelId_3</th>\n",
              "      <th>ChannelId_5</th>\n",
              "      <th>PricingStrategy_1</th>\n",
              "      <th>PricingStrategy_2</th>\n",
              "      <th>PricingStrategy_4</th>\n",
              "    </tr>\n",
              "  </thead>\n",
              "  <tbody>\n",
              "    <tr>\n",
              "      <th>59096</th>\n",
              "      <td>5730</td>\n",
              "      <td>4841</td>\n",
              "      <td>-100.0</td>\n",
              "      <td>2019</td>\n",
              "      <td>1</td>\n",
              "      <td>13</td>\n",
              "      <td>8</td>\n",
              "      <td>21</td>\n",
              "      <td>6</td>\n",
              "      <td>0</td>\n",
              "      <td>0</td>\n",
              "      <td>1</td>\n",
              "      <td>0</td>\n",
              "      <td>0</td>\n",
              "      <td>0</td>\n",
              "      <td>0</td>\n",
              "      <td>0</td>\n",
              "      <td>0</td>\n",
              "      <td>1</td>\n",
              "      <td>0</td>\n",
              "      <td>0</td>\n",
              "      <td>0</td>\n",
              "      <td>0</td>\n",
              "      <td>0</td>\n",
              "      <td>0</td>\n",
              "      <td>0</td>\n",
              "      <td>0</td>\n",
              "      <td>0</td>\n",
              "      <td>0</td>\n",
              "      <td>0</td>\n",
              "      <td>0</td>\n",
              "      <td>0</td>\n",
              "      <td>0</td>\n",
              "      <td>0</td>\n",
              "      <td>0</td>\n",
              "      <td>0</td>\n",
              "      <td>1</td>\n",
              "      <td>0</td>\n",
              "      <td>0</td>\n",
              "      <td>0</td>\n",
              "      <td>1</td>\n",
              "      <td>0</td>\n",
              "    </tr>\n",
              "    <tr>\n",
              "      <th>35991</th>\n",
              "      <td>3209</td>\n",
              "      <td>1270</td>\n",
              "      <td>5000.0</td>\n",
              "      <td>2018</td>\n",
              "      <td>12</td>\n",
              "      <td>21</td>\n",
              "      <td>16</td>\n",
              "      <td>18</td>\n",
              "      <td>4</td>\n",
              "      <td>0</td>\n",
              "      <td>0</td>\n",
              "      <td>0</td>\n",
              "      <td>0</td>\n",
              "      <td>1</td>\n",
              "      <td>0</td>\n",
              "      <td>0</td>\n",
              "      <td>0</td>\n",
              "      <td>0</td>\n",
              "      <td>0</td>\n",
              "      <td>0</td>\n",
              "      <td>0</td>\n",
              "      <td>0</td>\n",
              "      <td>1</td>\n",
              "      <td>0</td>\n",
              "      <td>0</td>\n",
              "      <td>0</td>\n",
              "      <td>0</td>\n",
              "      <td>0</td>\n",
              "      <td>0</td>\n",
              "      <td>0</td>\n",
              "      <td>0</td>\n",
              "      <td>0</td>\n",
              "      <td>0</td>\n",
              "      <td>0</td>\n",
              "      <td>0</td>\n",
              "      <td>0</td>\n",
              "      <td>0</td>\n",
              "      <td>1</td>\n",
              "      <td>0</td>\n",
              "      <td>0</td>\n",
              "      <td>1</td>\n",
              "      <td>0</td>\n",
              "    </tr>\n",
              "    <tr>\n",
              "      <th>69457</th>\n",
              "      <td>127344</td>\n",
              "      <td>1796</td>\n",
              "      <td>1000.0</td>\n",
              "      <td>2019</td>\n",
              "      <td>1</td>\n",
              "      <td>23</td>\n",
              "      <td>18</td>\n",
              "      <td>29</td>\n",
              "      <td>2</td>\n",
              "      <td>0</td>\n",
              "      <td>0</td>\n",
              "      <td>0</td>\n",
              "      <td>0</td>\n",
              "      <td>1</td>\n",
              "      <td>0</td>\n",
              "      <td>1</td>\n",
              "      <td>0</td>\n",
              "      <td>0</td>\n",
              "      <td>0</td>\n",
              "      <td>0</td>\n",
              "      <td>0</td>\n",
              "      <td>0</td>\n",
              "      <td>0</td>\n",
              "      <td>0</td>\n",
              "      <td>0</td>\n",
              "      <td>0</td>\n",
              "      <td>0</td>\n",
              "      <td>0</td>\n",
              "      <td>0</td>\n",
              "      <td>0</td>\n",
              "      <td>0</td>\n",
              "      <td>0</td>\n",
              "      <td>0</td>\n",
              "      <td>0</td>\n",
              "      <td>0</td>\n",
              "      <td>0</td>\n",
              "      <td>0</td>\n",
              "      <td>1</td>\n",
              "      <td>0</td>\n",
              "      <td>0</td>\n",
              "      <td>1</td>\n",
              "      <td>0</td>\n",
              "    </tr>\n",
              "    <tr>\n",
              "      <th>58498</th>\n",
              "      <td>13153</td>\n",
              "      <td>4841</td>\n",
              "      <td>-70.0</td>\n",
              "      <td>2019</td>\n",
              "      <td>1</td>\n",
              "      <td>12</td>\n",
              "      <td>11</td>\n",
              "      <td>14</td>\n",
              "      <td>5</td>\n",
              "      <td>0</td>\n",
              "      <td>0</td>\n",
              "      <td>1</td>\n",
              "      <td>0</td>\n",
              "      <td>0</td>\n",
              "      <td>0</td>\n",
              "      <td>0</td>\n",
              "      <td>0</td>\n",
              "      <td>0</td>\n",
              "      <td>1</td>\n",
              "      <td>0</td>\n",
              "      <td>0</td>\n",
              "      <td>0</td>\n",
              "      <td>0</td>\n",
              "      <td>0</td>\n",
              "      <td>0</td>\n",
              "      <td>0</td>\n",
              "      <td>0</td>\n",
              "      <td>0</td>\n",
              "      <td>0</td>\n",
              "      <td>0</td>\n",
              "      <td>0</td>\n",
              "      <td>0</td>\n",
              "      <td>0</td>\n",
              "      <td>0</td>\n",
              "      <td>0</td>\n",
              "      <td>0</td>\n",
              "      <td>1</td>\n",
              "      <td>0</td>\n",
              "      <td>0</td>\n",
              "      <td>0</td>\n",
              "      <td>1</td>\n",
              "      <td>0</td>\n",
              "    </tr>\n",
              "    <tr>\n",
              "      <th>88790</th>\n",
              "      <td>15503</td>\n",
              "      <td>2659</td>\n",
              "      <td>20000.0</td>\n",
              "      <td>2019</td>\n",
              "      <td>2</td>\n",
              "      <td>8</td>\n",
              "      <td>7</td>\n",
              "      <td>10</td>\n",
              "      <td>4</td>\n",
              "      <td>0</td>\n",
              "      <td>0</td>\n",
              "      <td>0</td>\n",
              "      <td>0</td>\n",
              "      <td>1</td>\n",
              "      <td>0</td>\n",
              "      <td>0</td>\n",
              "      <td>0</td>\n",
              "      <td>0</td>\n",
              "      <td>0</td>\n",
              "      <td>0</td>\n",
              "      <td>0</td>\n",
              "      <td>0</td>\n",
              "      <td>1</td>\n",
              "      <td>0</td>\n",
              "      <td>0</td>\n",
              "      <td>0</td>\n",
              "      <td>0</td>\n",
              "      <td>0</td>\n",
              "      <td>0</td>\n",
              "      <td>0</td>\n",
              "      <td>0</td>\n",
              "      <td>0</td>\n",
              "      <td>0</td>\n",
              "      <td>0</td>\n",
              "      <td>0</td>\n",
              "      <td>0</td>\n",
              "      <td>0</td>\n",
              "      <td>1</td>\n",
              "      <td>0</td>\n",
              "      <td>0</td>\n",
              "      <td>1</td>\n",
              "      <td>0</td>\n",
              "    </tr>\n",
              "  </tbody>\n",
              "</table>\n",
              "</div>"
            ],
            "text/plain": [
              "       BatchId  AccountId  ...  PricingStrategy_2  PricingStrategy_4\n",
              "59096     5730       4841  ...                  1                  0\n",
              "35991     3209       1270  ...                  1                  0\n",
              "69457   127344       1796  ...                  1                  0\n",
              "58498    13153       4841  ...                  1                  0\n",
              "88790    15503       2659  ...                  1                  0\n",
              "\n",
              "[5 rows x 42 columns]"
            ]
          },
          "metadata": {
            "tags": []
          },
          "execution_count": 200
        }
      ]
    },
    {
      "cell_type": "markdown",
      "metadata": {
        "id": "1SEay6vcGFb5",
        "colab_type": "text"
      },
      "source": [
        "# Modeling"
      ]
    },
    {
      "cell_type": "markdown",
      "metadata": {
        "id": "w-tScOQCGH2p",
        "colab_type": "text"
      },
      "source": [
        "## Logistic Regression\n",
        "\n",
        "So I will move between fitting and then making changes to dataset and fitting again.\n",
        "\n",
        "I am getting a very good fit, so I am  suspecting that the BatchID  or AccountID or something is predicting the results very well, but in the in the real test set it will not be the case\n",
        "<br>\n",
        "OR BECAUSE the dataset is so unbalanced, predicting everything is non-fraudelent will get you a good result\n"
      ]
    },
    {
      "cell_type": "code",
      "metadata": {
        "id": "XH1XD6GkGKli",
        "colab_type": "code",
        "colab": {
          "base_uri": "https://localhost:8080/",
          "height": 68
        },
        "outputId": "c32e68ff-1bd4-4eea-a10a-f7caa4a6e6bc"
      },
      "source": [
        "clf = LogisticRegression() #(C=30)\n",
        "#clf.fit(X_train, y_train)\n",
        "clf.fit(X, Y)\n",
        "\n",
        "trainTestPredict = clf.predict(X_test)\n",
        "\n",
        "print(np.mean(trainTestPredict == y_test))"
      ],
      "execution_count": 205,
      "outputs": [
        {
          "output_type": "stream",
          "text": [
            "/usr/local/lib/python3.6/dist-packages/sklearn/linear_model/logistic.py:432: FutureWarning: Default solver will be changed to 'lbfgs' in 0.22. Specify a solver to silence this warning.\n",
            "  FutureWarning)\n"
          ],
          "name": "stderr"
        },
        {
          "output_type": "stream",
          "text": [
            "0.9983797627136362\n"
          ],
          "name": "stdout"
        }
      ]
    },
    {
      "cell_type": "code",
      "metadata": {
        "id": "mfeuSK0JKSdi",
        "colab_type": "code",
        "colab": {
          "base_uri": "https://localhost:8080/",
          "height": 34
        },
        "outputId": "1cf2be91-c366-4c24-b893-2682df86b107"
      },
      "source": [
        "trainTestPredict"
      ],
      "execution_count": 182,
      "outputs": [
        {
          "output_type": "execute_result",
          "data": {
            "text/plain": [
              "array([0, 0, 0, ..., 0, 0, 0])"
            ]
          },
          "metadata": {
            "tags": []
          },
          "execution_count": 182
        }
      ]
    },
    {
      "cell_type": "markdown",
      "metadata": {
        "id": "9_iY06PVJ5sC",
        "colab_type": "text"
      },
      "source": [
        "# **Preparing output file**\n",
        "\n"
      ]
    },
    {
      "cell_type": "markdown",
      "metadata": {
        "id": "81DxtXL2KwiN",
        "colab_type": "text"
      },
      "source": [
        "## Generate predictions"
      ]
    },
    {
      "cell_type": "code",
      "metadata": {
        "id": "NIQWmbbALWlS",
        "colab_type": "code",
        "colab": {
          "base_uri": "https://localhost:8080/",
          "height": 85
        },
        "outputId": "4f827291-0b66-4028-ecd1-7b03952614f7"
      },
      "source": [
        "print(\"X_train len: \",len(X_train.columns))\n",
        "print(\"X_train shape: \",len(X_train.shape))\n",
        "print(\"test len: \",len(test.columns))\n",
        "print(\"Test shape: \",len(test.shape))"
      ],
      "execution_count": 206,
      "outputs": [
        {
          "output_type": "stream",
          "text": [
            "X_train len:  42\n",
            "X_train shape:  2\n",
            "test len:  42\n",
            "Test shape:  2\n"
          ],
          "name": "stdout"
        }
      ]
    },
    {
      "cell_type": "code",
      "metadata": {
        "id": "fIHmo4smJ-vK",
        "colab_type": "code",
        "colab": {
          "base_uri": "https://localhost:8080/",
          "height": 326
        },
        "outputId": "8e3f372c-7006-4304-b01f-02c8bfc59346"
      },
      "source": [
        "predictSubmit = clf.predict(test)"
      ],
      "execution_count": 207,
      "outputs": [
        {
          "output_type": "error",
          "ename": "ValueError",
          "evalue": "ignored",
          "traceback": [
            "\u001b[0;31m---------------------------------------------------------------------------\u001b[0m",
            "\u001b[0;31mValueError\u001b[0m                                Traceback (most recent call last)",
            "\u001b[0;32m<ipython-input-207-a8f9e3189c14>\u001b[0m in \u001b[0;36m<module>\u001b[0;34m()\u001b[0m\n\u001b[0;32m----> 1\u001b[0;31m \u001b[0mpredictSubmit\u001b[0m \u001b[0;34m=\u001b[0m \u001b[0mclf\u001b[0m\u001b[0;34m.\u001b[0m\u001b[0mpredict\u001b[0m\u001b[0;34m(\u001b[0m\u001b[0mtest\u001b[0m\u001b[0;34m)\u001b[0m\u001b[0;34m\u001b[0m\u001b[0;34m\u001b[0m\u001b[0m\n\u001b[0m",
            "\u001b[0;32m/usr/local/lib/python3.6/dist-packages/sklearn/linear_model/base.py\u001b[0m in \u001b[0;36mpredict\u001b[0;34m(self, X)\u001b[0m\n\u001b[1;32m    287\u001b[0m             \u001b[0mPredicted\u001b[0m \u001b[0;32mclass\u001b[0m \u001b[0mlabel\u001b[0m \u001b[0mper\u001b[0m \u001b[0msample\u001b[0m\u001b[0;34m.\u001b[0m\u001b[0;34m\u001b[0m\u001b[0;34m\u001b[0m\u001b[0m\n\u001b[1;32m    288\u001b[0m         \"\"\"\n\u001b[0;32m--> 289\u001b[0;31m         \u001b[0mscores\u001b[0m \u001b[0;34m=\u001b[0m \u001b[0mself\u001b[0m\u001b[0;34m.\u001b[0m\u001b[0mdecision_function\u001b[0m\u001b[0;34m(\u001b[0m\u001b[0mX\u001b[0m\u001b[0;34m)\u001b[0m\u001b[0;34m\u001b[0m\u001b[0;34m\u001b[0m\u001b[0m\n\u001b[0m\u001b[1;32m    290\u001b[0m         \u001b[0;32mif\u001b[0m \u001b[0mlen\u001b[0m\u001b[0;34m(\u001b[0m\u001b[0mscores\u001b[0m\u001b[0;34m.\u001b[0m\u001b[0mshape\u001b[0m\u001b[0;34m)\u001b[0m \u001b[0;34m==\u001b[0m \u001b[0;36m1\u001b[0m\u001b[0;34m:\u001b[0m\u001b[0;34m\u001b[0m\u001b[0;34m\u001b[0m\u001b[0m\n\u001b[1;32m    291\u001b[0m             \u001b[0mindices\u001b[0m \u001b[0;34m=\u001b[0m \u001b[0;34m(\u001b[0m\u001b[0mscores\u001b[0m \u001b[0;34m>\u001b[0m \u001b[0;36m0\u001b[0m\u001b[0;34m)\u001b[0m\u001b[0;34m.\u001b[0m\u001b[0mastype\u001b[0m\u001b[0;34m(\u001b[0m\u001b[0mnp\u001b[0m\u001b[0;34m.\u001b[0m\u001b[0mint\u001b[0m\u001b[0;34m)\u001b[0m\u001b[0;34m\u001b[0m\u001b[0;34m\u001b[0m\u001b[0m\n",
            "\u001b[0;32m/usr/local/lib/python3.6/dist-packages/sklearn/linear_model/base.py\u001b[0m in \u001b[0;36mdecision_function\u001b[0;34m(self, X)\u001b[0m\n\u001b[1;32m    263\u001b[0m                                  \"yet\" % {'name': type(self).__name__})\n\u001b[1;32m    264\u001b[0m \u001b[0;34m\u001b[0m\u001b[0m\n\u001b[0;32m--> 265\u001b[0;31m         \u001b[0mX\u001b[0m \u001b[0;34m=\u001b[0m \u001b[0mcheck_array\u001b[0m\u001b[0;34m(\u001b[0m\u001b[0mX\u001b[0m\u001b[0;34m,\u001b[0m \u001b[0maccept_sparse\u001b[0m\u001b[0;34m=\u001b[0m\u001b[0;34m'csr'\u001b[0m\u001b[0;34m)\u001b[0m\u001b[0;34m\u001b[0m\u001b[0;34m\u001b[0m\u001b[0m\n\u001b[0m\u001b[1;32m    266\u001b[0m \u001b[0;34m\u001b[0m\u001b[0m\n\u001b[1;32m    267\u001b[0m         \u001b[0mn_features\u001b[0m \u001b[0;34m=\u001b[0m \u001b[0mself\u001b[0m\u001b[0;34m.\u001b[0m\u001b[0mcoef_\u001b[0m\u001b[0;34m.\u001b[0m\u001b[0mshape\u001b[0m\u001b[0;34m[\u001b[0m\u001b[0;36m1\u001b[0m\u001b[0;34m]\u001b[0m\u001b[0;34m\u001b[0m\u001b[0;34m\u001b[0m\u001b[0m\n",
            "\u001b[0;32m/usr/local/lib/python3.6/dist-packages/sklearn/utils/validation.py\u001b[0m in \u001b[0;36mcheck_array\u001b[0;34m(array, accept_sparse, accept_large_sparse, dtype, order, copy, force_all_finite, ensure_2d, allow_nd, ensure_min_samples, ensure_min_features, warn_on_dtype, estimator)\u001b[0m\n\u001b[1;32m    548\u001b[0m                              \u001b[0;34m\" minimum of %d is required%s.\"\u001b[0m\u001b[0;34m\u001b[0m\u001b[0;34m\u001b[0m\u001b[0m\n\u001b[1;32m    549\u001b[0m                              % (n_samples, array.shape, ensure_min_samples,\n\u001b[0;32m--> 550\u001b[0;31m                                 context))\n\u001b[0m\u001b[1;32m    551\u001b[0m \u001b[0;34m\u001b[0m\u001b[0m\n\u001b[1;32m    552\u001b[0m     \u001b[0;32mif\u001b[0m \u001b[0mensure_min_features\u001b[0m \u001b[0;34m>\u001b[0m \u001b[0;36m0\u001b[0m \u001b[0;32mand\u001b[0m \u001b[0marray\u001b[0m\u001b[0;34m.\u001b[0m\u001b[0mndim\u001b[0m \u001b[0;34m==\u001b[0m \u001b[0;36m2\u001b[0m\u001b[0;34m:\u001b[0m\u001b[0;34m\u001b[0m\u001b[0;34m\u001b[0m\u001b[0m\n",
            "\u001b[0;31mValueError\u001b[0m: Found array with 0 sample(s) (shape=(0, 42)) while a minimum of 1 is required."
          ]
        }
      ]
    },
    {
      "cell_type": "code",
      "metadata": {
        "id": "xkUWbR2pR1qH",
        "colab_type": "code",
        "colab": {
          "base_uri": "https://localhost:8080/",
          "height": 163
        },
        "outputId": "8d77deed-4820-47c4-da6c-a166b83235ed"
      },
      "source": [
        "predictSubmit"
      ],
      "execution_count": 141,
      "outputs": [
        {
          "output_type": "error",
          "ename": "NameError",
          "evalue": "ignored",
          "traceback": [
            "\u001b[0;31m---------------------------------------------------------------------------\u001b[0m",
            "\u001b[0;31mNameError\u001b[0m                                 Traceback (most recent call last)",
            "\u001b[0;32m<ipython-input-141-406cb0a99a1a>\u001b[0m in \u001b[0;36m<module>\u001b[0;34m()\u001b[0m\n\u001b[0;32m----> 1\u001b[0;31m \u001b[0mpredictSubmit\u001b[0m\u001b[0;34m\u001b[0m\u001b[0;34m\u001b[0m\u001b[0m\n\u001b[0m",
            "\u001b[0;31mNameError\u001b[0m: name 'predictSubmit' is not defined"
          ]
        }
      ]
    }
  ]
}